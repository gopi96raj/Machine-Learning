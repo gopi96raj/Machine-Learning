{
 "cells": [
  {
   "cell_type": "markdown",
   "id": "a12bbcae",
   "metadata": {
    "id": "1orTWIYK9mK3",
    "papermill": {
     "duration": 0.057691,
     "end_time": "2022-01-09T15:42:18.465182",
     "exception": false,
     "start_time": "2022-01-09T15:42:18.407491",
     "status": "completed"
    },
    "tags": []
   },
   "source": [
    "## Regression Project: Predicting House Price in Bangalore"
   ]
  },
  {
   "cell_type": "code",
   "execution_count": 1,
   "id": "f045714c",
   "metadata": {
    "execution": {
     "iopub.execute_input": "2022-01-09T15:42:18.578261Z",
     "iopub.status.busy": "2022-01-09T15:42:18.577182Z",
     "iopub.status.idle": "2022-01-09T15:42:18.589423Z",
     "shell.execute_reply": "2022-01-09T15:42:18.588693Z",
     "shell.execute_reply.started": "2022-01-09T15:38:55.019829Z"
    },
    "id": "inRajKRA9dwa",
    "papermill": {
     "duration": 0.069623,
     "end_time": "2022-01-09T15:42:18.589584",
     "exception": false,
     "start_time": "2022-01-09T15:42:18.519961",
     "status": "completed"
    },
    "tags": []
   },
   "outputs": [],
   "source": [
    "## load all the dependencies\n",
    "\n",
    "import numpy as np\n",
    "import pandas as pd\n",
    "import matplotlib.pyplot as plt\n",
    "%matplotlib inline\n",
    "\n",
    "import matplotlib\n",
    "matplotlib.rcParams['figure.figsize']=(20,10)\n",
    "\n",
    "\n",
    "import warnings \n",
    "warnings.simplefilter('ignore')"
   ]
  },
  {
   "cell_type": "markdown",
   "id": "036ab853",
   "metadata": {
    "id": "_mt2K-WT-KXH",
    "papermill": {
     "duration": 0.054694,
     "end_time": "2022-01-09T15:42:18.699868",
     "exception": false,
     "start_time": "2022-01-09T15:42:18.645174",
     "status": "completed"
    },
    "tags": []
   },
   "source": [
    "**Load the dataset**"
   ]
  },
  {
   "cell_type": "code",
   "execution_count": 2,
   "id": "4e419eb0",
   "metadata": {
    "execution": {
     "iopub.execute_input": "2022-01-09T15:42:18.814097Z",
     "iopub.status.busy": "2022-01-09T15:42:18.813462Z",
     "iopub.status.idle": "2022-01-09T15:42:18.869398Z",
     "shell.execute_reply": "2022-01-09T15:42:18.868833Z",
     "shell.execute_reply.started": "2022-01-09T15:38:55.029922Z"
    },
    "id": "0s20CsDY-Bid",
    "papermill": {
     "duration": 0.115434,
     "end_time": "2022-01-09T15:42:18.869558",
     "exception": false,
     "start_time": "2022-01-09T15:42:18.754124",
     "status": "completed"
    },
    "tags": []
   },
   "outputs": [],
   "source": [
    "data = pd.read_csv('/kaggle/input/bengaluru-house-price-data/Bengaluru_House_Data.csv')"
   ]
  },
  {
   "cell_type": "code",
   "execution_count": 3,
   "id": "e0c0d514",
   "metadata": {
    "execution": {
     "iopub.execute_input": "2022-01-09T15:42:18.994731Z",
     "iopub.status.busy": "2022-01-09T15:42:18.993938Z",
     "iopub.status.idle": "2022-01-09T15:42:19.018963Z",
     "shell.execute_reply": "2022-01-09T15:42:19.019612Z",
     "shell.execute_reply.started": "2022-01-09T15:38:55.091026Z"
    },
    "id": "WZMGv7Em-c2k",
    "outputId": "922525ef-1f02-4ab5-996f-f992631ecc07",
    "papermill": {
     "duration": 0.095386,
     "end_time": "2022-01-09T15:42:19.019826",
     "exception": false,
     "start_time": "2022-01-09T15:42:18.924440",
     "status": "completed"
    },
    "tags": []
   },
   "outputs": [
    {
     "data": {
      "text/html": [
       "<div>\n",
       "<style scoped>\n",
       "    .dataframe tbody tr th:only-of-type {\n",
       "        vertical-align: middle;\n",
       "    }\n",
       "\n",
       "    .dataframe tbody tr th {\n",
       "        vertical-align: top;\n",
       "    }\n",
       "\n",
       "    .dataframe thead th {\n",
       "        text-align: right;\n",
       "    }\n",
       "</style>\n",
       "<table border=\"1\" class=\"dataframe\">\n",
       "  <thead>\n",
       "    <tr style=\"text-align: right;\">\n",
       "      <th></th>\n",
       "      <th>area_type</th>\n",
       "      <th>availability</th>\n",
       "      <th>location</th>\n",
       "      <th>size</th>\n",
       "      <th>society</th>\n",
       "      <th>total_sqft</th>\n",
       "      <th>bath</th>\n",
       "      <th>balcony</th>\n",
       "      <th>price</th>\n",
       "    </tr>\n",
       "  </thead>\n",
       "  <tbody>\n",
       "    <tr>\n",
       "      <th>0</th>\n",
       "      <td>Super built-up  Area</td>\n",
       "      <td>19-Dec</td>\n",
       "      <td>Electronic City Phase II</td>\n",
       "      <td>2 BHK</td>\n",
       "      <td>Coomee</td>\n",
       "      <td>1056</td>\n",
       "      <td>2.0</td>\n",
       "      <td>1.0</td>\n",
       "      <td>39.07</td>\n",
       "    </tr>\n",
       "    <tr>\n",
       "      <th>1</th>\n",
       "      <td>Plot  Area</td>\n",
       "      <td>Ready To Move</td>\n",
       "      <td>Chikka Tirupathi</td>\n",
       "      <td>4 Bedroom</td>\n",
       "      <td>Theanmp</td>\n",
       "      <td>2600</td>\n",
       "      <td>5.0</td>\n",
       "      <td>3.0</td>\n",
       "      <td>120.00</td>\n",
       "    </tr>\n",
       "    <tr>\n",
       "      <th>2</th>\n",
       "      <td>Built-up  Area</td>\n",
       "      <td>Ready To Move</td>\n",
       "      <td>Uttarahalli</td>\n",
       "      <td>3 BHK</td>\n",
       "      <td>NaN</td>\n",
       "      <td>1440</td>\n",
       "      <td>2.0</td>\n",
       "      <td>3.0</td>\n",
       "      <td>62.00</td>\n",
       "    </tr>\n",
       "    <tr>\n",
       "      <th>3</th>\n",
       "      <td>Super built-up  Area</td>\n",
       "      <td>Ready To Move</td>\n",
       "      <td>Lingadheeranahalli</td>\n",
       "      <td>3 BHK</td>\n",
       "      <td>Soiewre</td>\n",
       "      <td>1521</td>\n",
       "      <td>3.0</td>\n",
       "      <td>1.0</td>\n",
       "      <td>95.00</td>\n",
       "    </tr>\n",
       "    <tr>\n",
       "      <th>4</th>\n",
       "      <td>Super built-up  Area</td>\n",
       "      <td>Ready To Move</td>\n",
       "      <td>Kothanur</td>\n",
       "      <td>2 BHK</td>\n",
       "      <td>NaN</td>\n",
       "      <td>1200</td>\n",
       "      <td>2.0</td>\n",
       "      <td>1.0</td>\n",
       "      <td>51.00</td>\n",
       "    </tr>\n",
       "  </tbody>\n",
       "</table>\n",
       "</div>"
      ],
      "text/plain": [
       "              area_type   availability                  location       size  \\\n",
       "0  Super built-up  Area         19-Dec  Electronic City Phase II      2 BHK   \n",
       "1            Plot  Area  Ready To Move          Chikka Tirupathi  4 Bedroom   \n",
       "2        Built-up  Area  Ready To Move               Uttarahalli      3 BHK   \n",
       "3  Super built-up  Area  Ready To Move        Lingadheeranahalli      3 BHK   \n",
       "4  Super built-up  Area  Ready To Move                  Kothanur      2 BHK   \n",
       "\n",
       "   society total_sqft  bath  balcony   price  \n",
       "0  Coomee        1056   2.0      1.0   39.07  \n",
       "1  Theanmp       2600   5.0      3.0  120.00  \n",
       "2      NaN       1440   2.0      3.0   62.00  \n",
       "3  Soiewre       1521   3.0      1.0   95.00  \n",
       "4      NaN       1200   2.0      1.0   51.00  "
      ]
     },
     "execution_count": 3,
     "metadata": {},
     "output_type": "execute_result"
    }
   ],
   "source": [
    "data.head()"
   ]
  },
  {
   "cell_type": "code",
   "execution_count": 4,
   "id": "8301f190",
   "metadata": {
    "execution": {
     "iopub.execute_input": "2022-01-09T15:42:19.145894Z",
     "iopub.status.busy": "2022-01-09T15:42:19.145320Z",
     "iopub.status.idle": "2022-01-09T15:42:19.150444Z",
     "shell.execute_reply": "2022-01-09T15:42:19.149934Z",
     "shell.execute_reply.started": "2022-01-09T15:38:55.120562Z"
    },
    "id": "CZRsiACS-edc",
    "outputId": "6c31c062-fda6-4a9d-b469-9c3dd5a1e5b4",
    "papermill": {
     "duration": 0.066013,
     "end_time": "2022-01-09T15:42:19.150578",
     "exception": false,
     "start_time": "2022-01-09T15:42:19.084565",
     "status": "completed"
    },
    "tags": []
   },
   "outputs": [
    {
     "data": {
      "text/plain": [
       "(13320, 9)"
      ]
     },
     "execution_count": 4,
     "metadata": {},
     "output_type": "execute_result"
    }
   ],
   "source": [
    "# identify the rows and columns of the data \n",
    "data.shape"
   ]
  },
  {
   "cell_type": "code",
   "execution_count": 5,
   "id": "04c9b300",
   "metadata": {
    "execution": {
     "iopub.execute_input": "2022-01-09T15:42:19.265568Z",
     "iopub.status.busy": "2022-01-09T15:42:19.264962Z",
     "iopub.status.idle": "2022-01-09T15:42:19.267453Z",
     "shell.execute_reply": "2022-01-09T15:42:19.267935Z",
     "shell.execute_reply.started": "2022-01-09T15:38:55.127311Z"
    },
    "id": "RPwzwc8d-lEb",
    "outputId": "d71af5ab-4e34-439f-e42d-b10b70f67bb7",
    "papermill": {
     "duration": 0.062573,
     "end_time": "2022-01-09T15:42:19.268119",
     "exception": false,
     "start_time": "2022-01-09T15:42:19.205546",
     "status": "completed"
    },
    "tags": []
   },
   "outputs": [
    {
     "data": {
      "text/plain": [
       "Index(['area_type', 'availability', 'location', 'size', 'society',\n",
       "       'total_sqft', 'bath', 'balcony', 'price'],\n",
       "      dtype='object')"
      ]
     },
     "execution_count": 5,
     "metadata": {},
     "output_type": "execute_result"
    }
   ],
   "source": [
    "## Columns \n",
    "\n",
    "data.columns"
   ]
  },
  {
   "cell_type": "code",
   "execution_count": 6,
   "id": "5db44378",
   "metadata": {
    "execution": {
     "iopub.execute_input": "2022-01-09T15:42:19.387850Z",
     "iopub.status.busy": "2022-01-09T15:42:19.383616Z",
     "iopub.status.idle": "2022-01-09T15:42:19.396464Z",
     "shell.execute_reply": "2022-01-09T15:42:19.397100Z",
     "shell.execute_reply.started": "2022-01-09T15:38:55.141105Z"
    },
    "id": "9CK_IJuR-nvb",
    "outputId": "93893fcc-66a6-44ac-9ee0-c4a355b27559",
    "papermill": {
     "duration": 0.073157,
     "end_time": "2022-01-09T15:42:19.397301",
     "exception": false,
     "start_time": "2022-01-09T15:42:19.324144",
     "status": "completed"
    },
    "tags": []
   },
   "outputs": [
    {
     "data": {
      "text/plain": [
       "array(['Super built-up  Area', 'Plot  Area', 'Built-up  Area',\n",
       "       'Carpet  Area'], dtype=object)"
      ]
     },
     "execution_count": 6,
     "metadata": {},
     "output_type": "execute_result"
    }
   ],
   "source": [
    "## area's in the dataset \n",
    "\n",
    "data['area_type'].unique()"
   ]
  },
  {
   "cell_type": "code",
   "execution_count": 7,
   "id": "0b5c7bc0",
   "metadata": {
    "execution": {
     "iopub.execute_input": "2022-01-09T15:42:19.534071Z",
     "iopub.status.busy": "2022-01-09T15:42:19.533462Z",
     "iopub.status.idle": "2022-01-09T15:42:19.541970Z",
     "shell.execute_reply": "2022-01-09T15:42:19.542491Z",
     "shell.execute_reply.started": "2022-01-09T15:38:55.161285Z"
    },
    "id": "98CS9nba-xwC",
    "outputId": "7d9583a3-196a-49e7-c039-c47d8280891d",
    "papermill": {
     "duration": 0.071044,
     "end_time": "2022-01-09T15:42:19.542650",
     "exception": false,
     "start_time": "2022-01-09T15:42:19.471606",
     "status": "completed"
    },
    "tags": []
   },
   "outputs": [
    {
     "data": {
      "text/plain": [
       "Super built-up  Area    8790\n",
       "Built-up  Area          2418\n",
       "Plot  Area              2025\n",
       "Carpet  Area              87\n",
       "Name: area_type, dtype: int64"
      ]
     },
     "execution_count": 7,
     "metadata": {},
     "output_type": "execute_result"
    }
   ],
   "source": [
    "data['area_type'].value_counts()"
   ]
  },
  {
   "cell_type": "markdown",
   "id": "f7f07024",
   "metadata": {
    "id": "lXRYLvnk-7G4",
    "papermill": {
     "duration": 0.056072,
     "end_time": "2022-01-09T15:42:19.654887",
     "exception": false,
     "start_time": "2022-01-09T15:42:19.598815",
     "status": "completed"
    },
    "tags": []
   },
   "source": [
    "**Drop the features that are not required to build our model**"
   ]
  },
  {
   "cell_type": "code",
   "execution_count": 8,
   "id": "711d04b9",
   "metadata": {
    "execution": {
     "iopub.execute_input": "2022-01-09T15:42:19.769179Z",
     "iopub.status.busy": "2022-01-09T15:42:19.768618Z",
     "iopub.status.idle": "2022-01-09T15:42:19.775597Z",
     "shell.execute_reply": "2022-01-09T15:42:19.776141Z",
     "shell.execute_reply.started": "2022-01-09T15:38:55.174456Z"
    },
    "id": "qwkrRVvr-43d",
    "papermill": {
     "duration": 0.065699,
     "end_time": "2022-01-09T15:42:19.776296",
     "exception": false,
     "start_time": "2022-01-09T15:42:19.710597",
     "status": "completed"
    },
    "tags": []
   },
   "outputs": [],
   "source": [
    "data1 = data.drop(['area_type','society','balcony','availability'],axis='columns')"
   ]
  },
  {
   "cell_type": "markdown",
   "id": "2c2b46ea",
   "metadata": {
    "id": "8fqq3rvK_Oxa",
    "papermill": {
     "duration": 0.061942,
     "end_time": "2022-01-09T15:42:19.897513",
     "exception": false,
     "start_time": "2022-01-09T15:42:19.835571",
     "status": "completed"
    },
    "tags": []
   },
   "source": [
    "**Data Cleaning : Handle the NA values**"
   ]
  },
  {
   "cell_type": "code",
   "execution_count": 9,
   "id": "e914b522",
   "metadata": {
    "execution": {
     "iopub.execute_input": "2022-01-09T15:42:20.017954Z",
     "iopub.status.busy": "2022-01-09T15:42:20.017421Z",
     "iopub.status.idle": "2022-01-09T15:42:20.025719Z",
     "shell.execute_reply": "2022-01-09T15:42:20.026259Z",
     "shell.execute_reply.started": "2022-01-09T15:38:55.192387Z"
    },
    "id": "_Cer28FV_MKr",
    "outputId": "6bd18e29-eb13-412c-e763-61e69503661d",
    "papermill": {
     "duration": 0.067471,
     "end_time": "2022-01-09T15:42:20.026415",
     "exception": false,
     "start_time": "2022-01-09T15:42:19.958944",
     "status": "completed"
    },
    "tags": []
   },
   "outputs": [
    {
     "data": {
      "text/plain": [
       "location       1\n",
       "size          16\n",
       "total_sqft     0\n",
       "bath          73\n",
       "price          0\n",
       "dtype: int64"
      ]
     },
     "execution_count": 9,
     "metadata": {},
     "output_type": "execute_result"
    }
   ],
   "source": [
    "data1.isnull().sum()"
   ]
  },
  {
   "cell_type": "code",
   "execution_count": 10,
   "id": "d9b2c57e",
   "metadata": {
    "execution": {
     "iopub.execute_input": "2022-01-09T15:42:20.141696Z",
     "iopub.status.busy": "2022-01-09T15:42:20.141170Z",
     "iopub.status.idle": "2022-01-09T15:42:20.145285Z",
     "shell.execute_reply": "2022-01-09T15:42:20.145805Z",
     "shell.execute_reply.started": "2022-01-09T15:38:55.209783Z"
    },
    "id": "eyKYRjTF_YjZ",
    "outputId": "a2ce6a96-9006-4bda-a740-0edcd7bd6876",
    "papermill": {
     "duration": 0.063104,
     "end_time": "2022-01-09T15:42:20.145959",
     "exception": false,
     "start_time": "2022-01-09T15:42:20.082855",
     "status": "completed"
    },
    "tags": []
   },
   "outputs": [
    {
     "data": {
      "text/plain": [
       "(13320, 5)"
      ]
     },
     "execution_count": 10,
     "metadata": {},
     "output_type": "execute_result"
    }
   ],
   "source": [
    "data1.shape"
   ]
  },
  {
   "cell_type": "code",
   "execution_count": 11,
   "id": "8f816d14",
   "metadata": {
    "execution": {
     "iopub.execute_input": "2022-01-09T15:42:20.261419Z",
     "iopub.status.busy": "2022-01-09T15:42:20.260867Z",
     "iopub.status.idle": "2022-01-09T15:42:20.273996Z",
     "shell.execute_reply": "2022-01-09T15:42:20.274509Z",
     "shell.execute_reply.started": "2022-01-09T15:38:55.221212Z"
    },
    "id": "Ze0h6phr_bQw",
    "outputId": "6afd3b63-eaf1-4021-e58f-0cc7393225c7",
    "papermill": {
     "duration": 0.072483,
     "end_time": "2022-01-09T15:42:20.274675",
     "exception": false,
     "start_time": "2022-01-09T15:42:20.202192",
     "status": "completed"
    },
    "tags": []
   },
   "outputs": [
    {
     "data": {
      "text/plain": [
       "location      0\n",
       "size          0\n",
       "total_sqft    0\n",
       "bath          0\n",
       "price         0\n",
       "dtype: int64"
      ]
     },
     "execution_count": 11,
     "metadata": {},
     "output_type": "execute_result"
    }
   ],
   "source": [
    "house_data = data1.dropna()\n",
    "house_data.isnull().sum()"
   ]
  },
  {
   "cell_type": "code",
   "execution_count": 12,
   "id": "18ec4927",
   "metadata": {
    "execution": {
     "iopub.execute_input": "2022-01-09T15:42:20.392829Z",
     "iopub.status.busy": "2022-01-09T15:42:20.391937Z",
     "iopub.status.idle": "2022-01-09T15:42:20.396460Z",
     "shell.execute_reply": "2022-01-09T15:42:20.396970Z",
     "shell.execute_reply.started": "2022-01-09T15:38:55.244425Z"
    },
    "id": "C6Ml9Vwh_km9",
    "outputId": "68ec7a06-8256-439b-91f5-6bff866a1ac7",
    "papermill": {
     "duration": 0.065094,
     "end_time": "2022-01-09T15:42:20.397154",
     "exception": false,
     "start_time": "2022-01-09T15:42:20.332060",
     "status": "completed"
    },
    "tags": []
   },
   "outputs": [
    {
     "data": {
      "text/plain": [
       "(13246, 5)"
      ]
     },
     "execution_count": 12,
     "metadata": {},
     "output_type": "execute_result"
    }
   ],
   "source": [
    "house_data.shape"
   ]
  },
  {
   "cell_type": "code",
   "execution_count": 13,
   "id": "58625d3b",
   "metadata": {
    "execution": {
     "iopub.execute_input": "2022-01-09T15:42:20.514730Z",
     "iopub.status.busy": "2022-01-09T15:42:20.514141Z",
     "iopub.status.idle": "2022-01-09T15:42:20.520059Z",
     "shell.execute_reply": "2022-01-09T15:42:20.520573Z",
     "shell.execute_reply.started": "2022-01-09T15:38:55.272429Z"
    },
    "id": "Ch7C2Z93_nhJ",
    "outputId": "d5d61546-f058-4267-d1fa-c76b73373475",
    "papermill": {
     "duration": 0.06607,
     "end_time": "2022-01-09T15:42:20.520740",
     "exception": false,
     "start_time": "2022-01-09T15:42:20.454670",
     "status": "completed"
    },
    "tags": []
   },
   "outputs": [
    {
     "data": {
      "text/plain": [
       "location       object\n",
       "size           object\n",
       "total_sqft     object\n",
       "bath          float64\n",
       "price         float64\n",
       "dtype: object"
      ]
     },
     "execution_count": 13,
     "metadata": {},
     "output_type": "execute_result"
    }
   ],
   "source": [
    "house_data.dtypes"
   ]
  },
  {
   "cell_type": "code",
   "execution_count": 14,
   "id": "19457466",
   "metadata": {
    "execution": {
     "iopub.execute_input": "2022-01-09T15:42:20.640315Z",
     "iopub.status.busy": "2022-01-09T15:42:20.639396Z",
     "iopub.status.idle": "2022-01-09T15:42:20.650035Z",
     "shell.execute_reply": "2022-01-09T15:42:20.650557Z",
     "shell.execute_reply.started": "2022-01-09T15:38:55.282855Z"
    },
    "id": "VMWsOUcS_xrT",
    "outputId": "9b0651c8-27fb-424a-84a2-ab4d4f60a8e2",
    "papermill": {
     "duration": 0.071757,
     "end_time": "2022-01-09T15:42:20.650723",
     "exception": false,
     "start_time": "2022-01-09T15:42:20.578966",
     "status": "completed"
    },
    "tags": []
   },
   "outputs": [
    {
     "data": {
      "text/html": [
       "<div>\n",
       "<style scoped>\n",
       "    .dataframe tbody tr th:only-of-type {\n",
       "        vertical-align: middle;\n",
       "    }\n",
       "\n",
       "    .dataframe tbody tr th {\n",
       "        vertical-align: top;\n",
       "    }\n",
       "\n",
       "    .dataframe thead th {\n",
       "        text-align: right;\n",
       "    }\n",
       "</style>\n",
       "<table border=\"1\" class=\"dataframe\">\n",
       "  <thead>\n",
       "    <tr style=\"text-align: right;\">\n",
       "      <th></th>\n",
       "      <th>location</th>\n",
       "      <th>size</th>\n",
       "      <th>total_sqft</th>\n",
       "      <th>bath</th>\n",
       "      <th>price</th>\n",
       "    </tr>\n",
       "  </thead>\n",
       "  <tbody>\n",
       "    <tr>\n",
       "      <th>0</th>\n",
       "      <td>Electronic City Phase II</td>\n",
       "      <td>2 BHK</td>\n",
       "      <td>1056</td>\n",
       "      <td>2.0</td>\n",
       "      <td>39.07</td>\n",
       "    </tr>\n",
       "    <tr>\n",
       "      <th>1</th>\n",
       "      <td>Chikka Tirupathi</td>\n",
       "      <td>4 Bedroom</td>\n",
       "      <td>2600</td>\n",
       "      <td>5.0</td>\n",
       "      <td>120.00</td>\n",
       "    </tr>\n",
       "    <tr>\n",
       "      <th>2</th>\n",
       "      <td>Uttarahalli</td>\n",
       "      <td>3 BHK</td>\n",
       "      <td>1440</td>\n",
       "      <td>2.0</td>\n",
       "      <td>62.00</td>\n",
       "    </tr>\n",
       "    <tr>\n",
       "      <th>3</th>\n",
       "      <td>Lingadheeranahalli</td>\n",
       "      <td>3 BHK</td>\n",
       "      <td>1521</td>\n",
       "      <td>3.0</td>\n",
       "      <td>95.00</td>\n",
       "    </tr>\n",
       "    <tr>\n",
       "      <th>4</th>\n",
       "      <td>Kothanur</td>\n",
       "      <td>2 BHK</td>\n",
       "      <td>1200</td>\n",
       "      <td>2.0</td>\n",
       "      <td>51.00</td>\n",
       "    </tr>\n",
       "  </tbody>\n",
       "</table>\n",
       "</div>"
      ],
      "text/plain": [
       "                   location       size total_sqft  bath   price\n",
       "0  Electronic City Phase II      2 BHK       1056   2.0   39.07\n",
       "1          Chikka Tirupathi  4 Bedroom       2600   5.0  120.00\n",
       "2               Uttarahalli      3 BHK       1440   2.0   62.00\n",
       "3        Lingadheeranahalli      3 BHK       1521   3.0   95.00\n",
       "4                  Kothanur      2 BHK       1200   2.0   51.00"
      ]
     },
     "execution_count": 14,
     "metadata": {},
     "output_type": "execute_result"
    }
   ],
   "source": [
    "house_data.head()"
   ]
  },
  {
   "cell_type": "code",
   "execution_count": 15,
   "id": "c92d6db3",
   "metadata": {
    "execution": {
     "iopub.execute_input": "2022-01-09T15:42:20.772646Z",
     "iopub.status.busy": "2022-01-09T15:42:20.772062Z",
     "iopub.status.idle": "2022-01-09T15:42:20.777424Z",
     "shell.execute_reply": "2022-01-09T15:42:20.776971Z",
     "shell.execute_reply.started": "2022-01-09T15:38:55.300333Z"
    },
    "id": "hr6Uon4mBzRc",
    "outputId": "d249bec6-9d9b-4336-81e9-3c7651442a07",
    "papermill": {
     "duration": 0.068446,
     "end_time": "2022-01-09T15:42:20.777554",
     "exception": false,
     "start_time": "2022-01-09T15:42:20.709108",
     "status": "completed"
    },
    "tags": []
   },
   "outputs": [
    {
     "data": {
      "text/plain": [
       "array(['2 BHK', '4 Bedroom', '3 BHK', '4 BHK', '6 Bedroom', '3 Bedroom',\n",
       "       '1 BHK', '1 RK', '1 Bedroom', '8 Bedroom', '2 Bedroom',\n",
       "       '7 Bedroom', '5 BHK', '7 BHK', '6 BHK', '5 Bedroom', '11 BHK',\n",
       "       '9 BHK', '9 Bedroom', '27 BHK', '10 Bedroom', '11 Bedroom',\n",
       "       '10 BHK', '19 BHK', '16 BHK', '43 Bedroom', '14 BHK', '8 BHK',\n",
       "       '12 Bedroom', '13 BHK', '18 Bedroom'], dtype=object)"
      ]
     },
     "execution_count": 15,
     "metadata": {},
     "output_type": "execute_result"
    }
   ],
   "source": [
    "house_data['size'].unique()"
   ]
  },
  {
   "cell_type": "markdown",
   "id": "602d064c",
   "metadata": {
    "id": "oFRUngj4bbUR",
    "papermill": {
     "duration": 0.057691,
     "end_time": "2022-01-09T15:42:20.892655",
     "exception": false,
     "start_time": "2022-01-09T15:42:20.834964",
     "status": "completed"
    },
    "tags": []
   },
   "source": [
    "## Feature Engineering\n",
    "\n",
    "Add new feature(integer) for bhk(Bedrooms Hall Kitchen)"
   ]
  },
  {
   "cell_type": "code",
   "execution_count": 16,
   "id": "7a13a069",
   "metadata": {
    "execution": {
     "iopub.execute_input": "2022-01-09T15:42:21.041354Z",
     "iopub.status.busy": "2022-01-09T15:42:21.040434Z",
     "iopub.status.idle": "2022-01-09T15:42:21.059272Z",
     "shell.execute_reply": "2022-01-09T15:42:21.060102Z",
     "shell.execute_reply.started": "2022-01-09T15:38:55.316506Z"
    },
    "id": "STE_0qOPB413",
    "papermill": {
     "duration": 0.109812,
     "end_time": "2022-01-09T15:42:21.060350",
     "exception": false,
     "start_time": "2022-01-09T15:42:20.950538",
     "status": "completed"
    },
    "tags": []
   },
   "outputs": [],
   "source": [
    "## add the bhk column\n",
    "house_data['BHK'] = house_data['size'].apply(lambda x: int(x.split(' ')[0]))"
   ]
  },
  {
   "cell_type": "code",
   "execution_count": 17,
   "id": "59bf477a",
   "metadata": {
    "execution": {
     "iopub.execute_input": "2022-01-09T15:42:21.182373Z",
     "iopub.status.busy": "2022-01-09T15:42:21.181480Z",
     "iopub.status.idle": "2022-01-09T15:42:21.192448Z",
     "shell.execute_reply": "2022-01-09T15:42:21.192978Z",
     "shell.execute_reply.started": "2022-01-09T15:38:55.335990Z"
    },
    "id": "NMR_p-_aCd7p",
    "outputId": "7499f050-8d35-479d-aab8-1b987d642fae",
    "papermill": {
     "duration": 0.072915,
     "end_time": "2022-01-09T15:42:21.193153",
     "exception": false,
     "start_time": "2022-01-09T15:42:21.120238",
     "status": "completed"
    },
    "tags": []
   },
   "outputs": [
    {
     "data": {
      "text/html": [
       "<div>\n",
       "<style scoped>\n",
       "    .dataframe tbody tr th:only-of-type {\n",
       "        vertical-align: middle;\n",
       "    }\n",
       "\n",
       "    .dataframe tbody tr th {\n",
       "        vertical-align: top;\n",
       "    }\n",
       "\n",
       "    .dataframe thead th {\n",
       "        text-align: right;\n",
       "    }\n",
       "</style>\n",
       "<table border=\"1\" class=\"dataframe\">\n",
       "  <thead>\n",
       "    <tr style=\"text-align: right;\">\n",
       "      <th></th>\n",
       "      <th>location</th>\n",
       "      <th>size</th>\n",
       "      <th>total_sqft</th>\n",
       "      <th>bath</th>\n",
       "      <th>price</th>\n",
       "      <th>BHK</th>\n",
       "    </tr>\n",
       "  </thead>\n",
       "  <tbody>\n",
       "    <tr>\n",
       "      <th>0</th>\n",
       "      <td>Electronic City Phase II</td>\n",
       "      <td>2 BHK</td>\n",
       "      <td>1056</td>\n",
       "      <td>2.0</td>\n",
       "      <td>39.07</td>\n",
       "      <td>2</td>\n",
       "    </tr>\n",
       "    <tr>\n",
       "      <th>1</th>\n",
       "      <td>Chikka Tirupathi</td>\n",
       "      <td>4 Bedroom</td>\n",
       "      <td>2600</td>\n",
       "      <td>5.0</td>\n",
       "      <td>120.00</td>\n",
       "      <td>4</td>\n",
       "    </tr>\n",
       "    <tr>\n",
       "      <th>2</th>\n",
       "      <td>Uttarahalli</td>\n",
       "      <td>3 BHK</td>\n",
       "      <td>1440</td>\n",
       "      <td>2.0</td>\n",
       "      <td>62.00</td>\n",
       "      <td>3</td>\n",
       "    </tr>\n",
       "    <tr>\n",
       "      <th>3</th>\n",
       "      <td>Lingadheeranahalli</td>\n",
       "      <td>3 BHK</td>\n",
       "      <td>1521</td>\n",
       "      <td>3.0</td>\n",
       "      <td>95.00</td>\n",
       "      <td>3</td>\n",
       "    </tr>\n",
       "    <tr>\n",
       "      <th>4</th>\n",
       "      <td>Kothanur</td>\n",
       "      <td>2 BHK</td>\n",
       "      <td>1200</td>\n",
       "      <td>2.0</td>\n",
       "      <td>51.00</td>\n",
       "      <td>2</td>\n",
       "    </tr>\n",
       "  </tbody>\n",
       "</table>\n",
       "</div>"
      ],
      "text/plain": [
       "                   location       size total_sqft  bath   price  BHK\n",
       "0  Electronic City Phase II      2 BHK       1056   2.0   39.07    2\n",
       "1          Chikka Tirupathi  4 Bedroom       2600   5.0  120.00    4\n",
       "2               Uttarahalli      3 BHK       1440   2.0   62.00    3\n",
       "3        Lingadheeranahalli      3 BHK       1521   3.0   95.00    3\n",
       "4                  Kothanur      2 BHK       1200   2.0   51.00    2"
      ]
     },
     "execution_count": 17,
     "metadata": {},
     "output_type": "execute_result"
    }
   ],
   "source": [
    "house_data.head()"
   ]
  },
  {
   "cell_type": "code",
   "execution_count": 18,
   "id": "a2e8c3ec",
   "metadata": {
    "execution": {
     "iopub.execute_input": "2022-01-09T15:42:21.315801Z",
     "iopub.status.busy": "2022-01-09T15:42:21.314870Z",
     "iopub.status.idle": "2022-01-09T15:42:21.320559Z",
     "shell.execute_reply": "2022-01-09T15:42:21.321104Z",
     "shell.execute_reply.started": "2022-01-09T15:38:55.349852Z"
    },
    "id": "cDCmvCvXCkq9",
    "outputId": "c5c79cc0-f4a4-4583-9640-5242839d6d31",
    "papermill": {
     "duration": 0.07006,
     "end_time": "2022-01-09T15:42:21.321263",
     "exception": false,
     "start_time": "2022-01-09T15:42:21.251203",
     "status": "completed"
    },
    "tags": []
   },
   "outputs": [
    {
     "data": {
      "text/plain": [
       "array([ 2,  4,  3,  6,  1,  8,  7,  5, 11,  9, 27, 10, 19, 16, 43, 14, 12,\n",
       "       13, 18])"
      ]
     },
     "execution_count": 18,
     "metadata": {},
     "output_type": "execute_result"
    }
   ],
   "source": [
    "house_data['BHK'].unique()"
   ]
  },
  {
   "cell_type": "code",
   "execution_count": 19,
   "id": "11c5a432",
   "metadata": {
    "execution": {
     "iopub.execute_input": "2022-01-09T15:42:21.449668Z",
     "iopub.status.busy": "2022-01-09T15:42:21.448990Z",
     "iopub.status.idle": "2022-01-09T15:42:21.451882Z",
     "shell.execute_reply": "2022-01-09T15:42:21.452339Z",
     "shell.execute_reply.started": "2022-01-09T15:38:55.364730Z"
    },
    "id": "3Y7eoTr7C0f2",
    "outputId": "9885c0eb-794c-4033-e854-869a25b8b980",
    "papermill": {
     "duration": 0.072834,
     "end_time": "2022-01-09T15:42:21.452495",
     "exception": false,
     "start_time": "2022-01-09T15:42:21.379661",
     "status": "completed"
    },
    "tags": []
   },
   "outputs": [
    {
     "data": {
      "text/html": [
       "<div>\n",
       "<style scoped>\n",
       "    .dataframe tbody tr th:only-of-type {\n",
       "        vertical-align: middle;\n",
       "    }\n",
       "\n",
       "    .dataframe tbody tr th {\n",
       "        vertical-align: top;\n",
       "    }\n",
       "\n",
       "    .dataframe thead th {\n",
       "        text-align: right;\n",
       "    }\n",
       "</style>\n",
       "<table border=\"1\" class=\"dataframe\">\n",
       "  <thead>\n",
       "    <tr style=\"text-align: right;\">\n",
       "      <th></th>\n",
       "      <th>location</th>\n",
       "      <th>size</th>\n",
       "      <th>total_sqft</th>\n",
       "      <th>bath</th>\n",
       "      <th>price</th>\n",
       "      <th>BHK</th>\n",
       "    </tr>\n",
       "  </thead>\n",
       "  <tbody>\n",
       "    <tr>\n",
       "      <th>1718</th>\n",
       "      <td>2Electronic City Phase II</td>\n",
       "      <td>27 BHK</td>\n",
       "      <td>8000</td>\n",
       "      <td>27.0</td>\n",
       "      <td>230.0</td>\n",
       "      <td>27</td>\n",
       "    </tr>\n",
       "    <tr>\n",
       "      <th>4684</th>\n",
       "      <td>Munnekollal</td>\n",
       "      <td>43 Bedroom</td>\n",
       "      <td>2400</td>\n",
       "      <td>40.0</td>\n",
       "      <td>660.0</td>\n",
       "      <td>43</td>\n",
       "    </tr>\n",
       "  </tbody>\n",
       "</table>\n",
       "</div>"
      ],
      "text/plain": [
       "                       location        size total_sqft  bath  price  BHK\n",
       "1718  2Electronic City Phase II      27 BHK       8000  27.0  230.0   27\n",
       "4684                Munnekollal  43 Bedroom       2400  40.0  660.0   43"
      ]
     },
     "execution_count": 19,
     "metadata": {},
     "output_type": "execute_result"
    }
   ],
   "source": [
    "house_data[house_data.BHK > 20]"
   ]
  },
  {
   "cell_type": "markdown",
   "id": "daf75ebd",
   "metadata": {
    "id": "4gPGw-e8DXJS",
    "papermill": {
     "duration": 0.059017,
     "end_time": "2022-01-09T15:42:21.570155",
     "exception": false,
     "start_time": "2022-01-09T15:42:21.511138",
     "status": "completed"
    },
    "tags": []
   },
   "source": [
    "**Insight**\n",
    "\n",
    "There is some problem in the total_Sqft column it shows 43 bedroom in 2400 sq ft area.."
   ]
  },
  {
   "cell_type": "code",
   "execution_count": 20,
   "id": "60c963fe",
   "metadata": {
    "execution": {
     "iopub.execute_input": "2022-01-09T15:42:21.694137Z",
     "iopub.status.busy": "2022-01-09T15:42:21.693202Z",
     "iopub.status.idle": "2022-01-09T15:42:21.696951Z",
     "shell.execute_reply": "2022-01-09T15:42:21.697498Z",
     "shell.execute_reply.started": "2022-01-09T15:38:55.381428Z"
    },
    "id": "U4-bd1csDK06",
    "outputId": "bfd006cd-ceae-4f98-862c-7aa20c7ab1b8",
    "papermill": {
     "duration": 0.069177,
     "end_time": "2022-01-09T15:42:21.697654",
     "exception": false,
     "start_time": "2022-01-09T15:42:21.628477",
     "status": "completed"
    },
    "tags": []
   },
   "outputs": [
    {
     "data": {
      "text/plain": [
       "array(['1056', '2600', '1440', ..., '1133 - 1384', '774', '4689'],\n",
       "      dtype=object)"
      ]
     },
     "execution_count": 20,
     "metadata": {},
     "output_type": "execute_result"
    }
   ],
   "source": [
    "## Examine the total_sqft column\n",
    "\n",
    "house_data['total_sqft'].unique()"
   ]
  },
  {
   "cell_type": "markdown",
   "id": "cec0eb48",
   "metadata": {
    "id": "Im45bwN6DuMy",
    "papermill": {
     "duration": 0.059034,
     "end_time": "2022-01-09T15:42:21.815474",
     "exception": false,
     "start_time": "2022-01-09T15:42:21.756440",
     "status": "completed"
    },
    "tags": []
   },
   "source": [
    "Their is some range values in the 'total_sqft' column as like \"1133 - 1384\" let's convert it into a single value.."
   ]
  },
  {
   "cell_type": "code",
   "execution_count": 21,
   "id": "95eecbf7",
   "metadata": {
    "execution": {
     "iopub.execute_input": "2022-01-09T15:42:21.936073Z",
     "iopub.status.busy": "2022-01-09T15:42:21.935468Z",
     "iopub.status.idle": "2022-01-09T15:42:21.938972Z",
     "shell.execute_reply": "2022-01-09T15:42:21.939465Z",
     "shell.execute_reply.started": "2022-01-09T15:38:55.395664Z"
    },
    "id": "sGWQdIqFDsci",
    "papermill": {
     "duration": 0.065293,
     "end_time": "2022-01-09T15:42:21.939620",
     "exception": false,
     "start_time": "2022-01-09T15:42:21.874327",
     "status": "completed"
    },
    "tags": []
   },
   "outputs": [],
   "source": [
    "## let's try with a function \n",
    "\n",
    "def is_float(x):\n",
    "   try:\n",
    "     float(x)\n",
    "   except:\n",
    "     return False\n",
    "   return True    "
   ]
  },
  {
   "cell_type": "code",
   "execution_count": 22,
   "id": "023b3452",
   "metadata": {
    "execution": {
     "iopub.execute_input": "2022-01-09T15:42:22.062581Z",
     "iopub.status.busy": "2022-01-09T15:42:22.061988Z",
     "iopub.status.idle": "2022-01-09T15:42:22.079072Z",
     "shell.execute_reply": "2022-01-09T15:42:22.079507Z",
     "shell.execute_reply.started": "2022-01-09T15:38:55.402177Z"
    },
    "id": "yAgDmDy9Eg5Z",
    "outputId": "ca020d99-2bc0-4bdb-8d0a-05c559ed48af",
    "papermill": {
     "duration": 0.079863,
     "end_time": "2022-01-09T15:42:22.079665",
     "exception": false,
     "start_time": "2022-01-09T15:42:21.999802",
     "status": "completed"
    },
    "tags": []
   },
   "outputs": [
    {
     "data": {
      "text/html": [
       "<div>\n",
       "<style scoped>\n",
       "    .dataframe tbody tr th:only-of-type {\n",
       "        vertical-align: middle;\n",
       "    }\n",
       "\n",
       "    .dataframe tbody tr th {\n",
       "        vertical-align: top;\n",
       "    }\n",
       "\n",
       "    .dataframe thead th {\n",
       "        text-align: right;\n",
       "    }\n",
       "</style>\n",
       "<table border=\"1\" class=\"dataframe\">\n",
       "  <thead>\n",
       "    <tr style=\"text-align: right;\">\n",
       "      <th></th>\n",
       "      <th>location</th>\n",
       "      <th>size</th>\n",
       "      <th>total_sqft</th>\n",
       "      <th>bath</th>\n",
       "      <th>price</th>\n",
       "      <th>BHK</th>\n",
       "    </tr>\n",
       "  </thead>\n",
       "  <tbody>\n",
       "    <tr>\n",
       "      <th>30</th>\n",
       "      <td>Yelahanka</td>\n",
       "      <td>4 BHK</td>\n",
       "      <td>2100 - 2850</td>\n",
       "      <td>4.0</td>\n",
       "      <td>186.000</td>\n",
       "      <td>4</td>\n",
       "    </tr>\n",
       "    <tr>\n",
       "      <th>122</th>\n",
       "      <td>Hebbal</td>\n",
       "      <td>4 BHK</td>\n",
       "      <td>3067 - 8156</td>\n",
       "      <td>4.0</td>\n",
       "      <td>477.000</td>\n",
       "      <td>4</td>\n",
       "    </tr>\n",
       "    <tr>\n",
       "      <th>137</th>\n",
       "      <td>8th Phase JP Nagar</td>\n",
       "      <td>2 BHK</td>\n",
       "      <td>1042 - 1105</td>\n",
       "      <td>2.0</td>\n",
       "      <td>54.005</td>\n",
       "      <td>2</td>\n",
       "    </tr>\n",
       "    <tr>\n",
       "      <th>165</th>\n",
       "      <td>Sarjapur</td>\n",
       "      <td>2 BHK</td>\n",
       "      <td>1145 - 1340</td>\n",
       "      <td>2.0</td>\n",
       "      <td>43.490</td>\n",
       "      <td>2</td>\n",
       "    </tr>\n",
       "    <tr>\n",
       "      <th>188</th>\n",
       "      <td>KR Puram</td>\n",
       "      <td>2 BHK</td>\n",
       "      <td>1015 - 1540</td>\n",
       "      <td>2.0</td>\n",
       "      <td>56.800</td>\n",
       "      <td>2</td>\n",
       "    </tr>\n",
       "    <tr>\n",
       "      <th>410</th>\n",
       "      <td>Kengeri</td>\n",
       "      <td>1 BHK</td>\n",
       "      <td>34.46Sq. Meter</td>\n",
       "      <td>1.0</td>\n",
       "      <td>18.500</td>\n",
       "      <td>1</td>\n",
       "    </tr>\n",
       "    <tr>\n",
       "      <th>549</th>\n",
       "      <td>Hennur Road</td>\n",
       "      <td>2 BHK</td>\n",
       "      <td>1195 - 1440</td>\n",
       "      <td>2.0</td>\n",
       "      <td>63.770</td>\n",
       "      <td>2</td>\n",
       "    </tr>\n",
       "    <tr>\n",
       "      <th>648</th>\n",
       "      <td>Arekere</td>\n",
       "      <td>9 Bedroom</td>\n",
       "      <td>4125Perch</td>\n",
       "      <td>9.0</td>\n",
       "      <td>265.000</td>\n",
       "      <td>9</td>\n",
       "    </tr>\n",
       "    <tr>\n",
       "      <th>661</th>\n",
       "      <td>Yelahanka</td>\n",
       "      <td>2 BHK</td>\n",
       "      <td>1120 - 1145</td>\n",
       "      <td>2.0</td>\n",
       "      <td>48.130</td>\n",
       "      <td>2</td>\n",
       "    </tr>\n",
       "    <tr>\n",
       "      <th>672</th>\n",
       "      <td>Bettahalsoor</td>\n",
       "      <td>4 Bedroom</td>\n",
       "      <td>3090 - 5002</td>\n",
       "      <td>4.0</td>\n",
       "      <td>445.000</td>\n",
       "      <td>4</td>\n",
       "    </tr>\n",
       "    <tr>\n",
       "      <th>772</th>\n",
       "      <td>Banashankari Stage VI</td>\n",
       "      <td>2 BHK</td>\n",
       "      <td>1160 - 1195</td>\n",
       "      <td>2.0</td>\n",
       "      <td>59.935</td>\n",
       "      <td>2</td>\n",
       "    </tr>\n",
       "    <tr>\n",
       "      <th>775</th>\n",
       "      <td>Basavanagara</td>\n",
       "      <td>1 BHK</td>\n",
       "      <td>1000Sq. Meter</td>\n",
       "      <td>2.0</td>\n",
       "      <td>93.000</td>\n",
       "      <td>1</td>\n",
       "    </tr>\n",
       "  </tbody>\n",
       "</table>\n",
       "</div>"
      ],
      "text/plain": [
       "                  location       size      total_sqft  bath    price  BHK\n",
       "30               Yelahanka      4 BHK     2100 - 2850   4.0  186.000    4\n",
       "122                 Hebbal      4 BHK     3067 - 8156   4.0  477.000    4\n",
       "137     8th Phase JP Nagar      2 BHK     1042 - 1105   2.0   54.005    2\n",
       "165               Sarjapur      2 BHK     1145 - 1340   2.0   43.490    2\n",
       "188               KR Puram      2 BHK     1015 - 1540   2.0   56.800    2\n",
       "410                Kengeri      1 BHK  34.46Sq. Meter   1.0   18.500    1\n",
       "549            Hennur Road      2 BHK     1195 - 1440   2.0   63.770    2\n",
       "648                Arekere  9 Bedroom       4125Perch   9.0  265.000    9\n",
       "661              Yelahanka      2 BHK     1120 - 1145   2.0   48.130    2\n",
       "672           Bettahalsoor  4 Bedroom     3090 - 5002   4.0  445.000    4\n",
       "772  Banashankari Stage VI      2 BHK     1160 - 1195   2.0   59.935    2\n",
       "775           Basavanagara      1 BHK   1000Sq. Meter   2.0   93.000    1"
      ]
     },
     "execution_count": 22,
     "metadata": {},
     "output_type": "execute_result"
    }
   ],
   "source": [
    "house_data[~house_data['total_sqft'].apply(is_float)].head(12)"
   ]
  },
  {
   "cell_type": "markdown",
   "id": "a1dd49b1",
   "metadata": {
    "id": "Q6qwKGnCFJdz",
    "papermill": {
     "duration": 0.061463,
     "end_time": "2022-01-09T15:42:22.202964",
     "exception": false,
     "start_time": "2022-01-09T15:42:22.141501",
     "status": "completed"
    },
    "tags": []
   },
   "source": [
    "Above shows that total_sqft can be a range (e.g. 2100-2850). For such case we can just take average of min and max value in the range. There are other cases such as 34.46Sq. Meter which one can convert to square ft using unit conversion. I am going to just drop such corner cases to keep things simple"
   ]
  },
  {
   "cell_type": "code",
   "execution_count": 23,
   "id": "4ebf4646",
   "metadata": {
    "execution": {
     "iopub.execute_input": "2022-01-09T15:42:22.327066Z",
     "iopub.status.busy": "2022-01-09T15:42:22.326450Z",
     "iopub.status.idle": "2022-01-09T15:42:22.330370Z",
     "shell.execute_reply": "2022-01-09T15:42:22.330837Z",
     "shell.execute_reply.started": "2022-01-09T15:38:55.431545Z"
    },
    "id": "2z8wJFTqErd9",
    "papermill": {
     "duration": 0.067563,
     "end_time": "2022-01-09T15:42:22.331001",
     "exception": false,
     "start_time": "2022-01-09T15:42:22.263438",
     "status": "completed"
    },
    "tags": []
   },
   "outputs": [],
   "source": [
    " def convert_sqft_num(x):\n",
    "   tokens = x.split('-')\n",
    "   if len(tokens) == 2:\n",
    "     return(float(tokens[0])+float(tokens[1]))/2\n",
    "   try:\n",
    "     return float(x)\n",
    "   except:\n",
    "     return None\n",
    "            "
   ]
  },
  {
   "cell_type": "code",
   "execution_count": 24,
   "id": "145aca0f",
   "metadata": {
    "execution": {
     "iopub.execute_input": "2022-01-09T15:42:22.451785Z",
     "iopub.status.busy": "2022-01-09T15:42:22.451241Z",
     "iopub.status.idle": "2022-01-09T15:42:22.463304Z",
     "shell.execute_reply": "2022-01-09T15:42:22.463752Z",
     "shell.execute_reply.started": "2022-01-09T15:38:55.441525Z"
    },
    "id": "2SYy_w-PGNOE",
    "outputId": "a23794b8-7833-4eef-f098-76fca0f346fd",
    "papermill": {
     "duration": 0.073729,
     "end_time": "2022-01-09T15:42:22.463908",
     "exception": false,
     "start_time": "2022-01-09T15:42:22.390179",
     "status": "completed"
    },
    "tags": []
   },
   "outputs": [],
   "source": [
    "house_data['total_sqft'] = house_data['total_sqft'].apply(convert_sqft_num)"
   ]
  },
  {
   "cell_type": "code",
   "execution_count": 25,
   "id": "60799565",
   "metadata": {
    "execution": {
     "iopub.execute_input": "2022-01-09T15:42:22.584744Z",
     "iopub.status.busy": "2022-01-09T15:42:22.584144Z",
     "iopub.status.idle": "2022-01-09T15:42:22.595035Z",
     "shell.execute_reply": "2022-01-09T15:42:22.595523Z",
     "shell.execute_reply.started": "2022-01-09T15:38:55.461608Z"
    },
    "id": "jSir8oLYGheg",
    "outputId": "fd6a6e8b-2d28-4034-d929-9cf9a8c853f8",
    "papermill": {
     "duration": 0.072953,
     "end_time": "2022-01-09T15:42:22.595684",
     "exception": false,
     "start_time": "2022-01-09T15:42:22.522731",
     "status": "completed"
    },
    "tags": []
   },
   "outputs": [
    {
     "data": {
      "text/html": [
       "<div>\n",
       "<style scoped>\n",
       "    .dataframe tbody tr th:only-of-type {\n",
       "        vertical-align: middle;\n",
       "    }\n",
       "\n",
       "    .dataframe tbody tr th {\n",
       "        vertical-align: top;\n",
       "    }\n",
       "\n",
       "    .dataframe thead th {\n",
       "        text-align: right;\n",
       "    }\n",
       "</style>\n",
       "<table border=\"1\" class=\"dataframe\">\n",
       "  <thead>\n",
       "    <tr style=\"text-align: right;\">\n",
       "      <th></th>\n",
       "      <th>location</th>\n",
       "      <th>size</th>\n",
       "      <th>total_sqft</th>\n",
       "      <th>bath</th>\n",
       "      <th>price</th>\n",
       "      <th>BHK</th>\n",
       "    </tr>\n",
       "  </thead>\n",
       "  <tbody>\n",
       "    <tr>\n",
       "      <th>0</th>\n",
       "      <td>Electronic City Phase II</td>\n",
       "      <td>2 BHK</td>\n",
       "      <td>1056.0</td>\n",
       "      <td>2.0</td>\n",
       "      <td>39.07</td>\n",
       "      <td>2</td>\n",
       "    </tr>\n",
       "    <tr>\n",
       "      <th>1</th>\n",
       "      <td>Chikka Tirupathi</td>\n",
       "      <td>4 Bedroom</td>\n",
       "      <td>2600.0</td>\n",
       "      <td>5.0</td>\n",
       "      <td>120.00</td>\n",
       "      <td>4</td>\n",
       "    </tr>\n",
       "    <tr>\n",
       "      <th>2</th>\n",
       "      <td>Uttarahalli</td>\n",
       "      <td>3 BHK</td>\n",
       "      <td>1440.0</td>\n",
       "      <td>2.0</td>\n",
       "      <td>62.00</td>\n",
       "      <td>3</td>\n",
       "    </tr>\n",
       "    <tr>\n",
       "      <th>3</th>\n",
       "      <td>Lingadheeranahalli</td>\n",
       "      <td>3 BHK</td>\n",
       "      <td>1521.0</td>\n",
       "      <td>3.0</td>\n",
       "      <td>95.00</td>\n",
       "      <td>3</td>\n",
       "    </tr>\n",
       "    <tr>\n",
       "      <th>4</th>\n",
       "      <td>Kothanur</td>\n",
       "      <td>2 BHK</td>\n",
       "      <td>1200.0</td>\n",
       "      <td>2.0</td>\n",
       "      <td>51.00</td>\n",
       "      <td>2</td>\n",
       "    </tr>\n",
       "  </tbody>\n",
       "</table>\n",
       "</div>"
      ],
      "text/plain": [
       "                   location       size  total_sqft  bath   price  BHK\n",
       "0  Electronic City Phase II      2 BHK      1056.0   2.0   39.07    2\n",
       "1          Chikka Tirupathi  4 Bedroom      2600.0   5.0  120.00    4\n",
       "2               Uttarahalli      3 BHK      1440.0   2.0   62.00    3\n",
       "3        Lingadheeranahalli      3 BHK      1521.0   3.0   95.00    3\n",
       "4                  Kothanur      2 BHK      1200.0   2.0   51.00    2"
      ]
     },
     "execution_count": 25,
     "metadata": {},
     "output_type": "execute_result"
    }
   ],
   "source": [
    "house_data.head()"
   ]
  },
  {
   "cell_type": "code",
   "execution_count": 26,
   "id": "19f1753b",
   "metadata": {
    "execution": {
     "iopub.execute_input": "2022-01-09T15:42:22.718918Z",
     "iopub.status.busy": "2022-01-09T15:42:22.718369Z",
     "iopub.status.idle": "2022-01-09T15:42:22.725777Z",
     "shell.execute_reply": "2022-01-09T15:42:22.726194Z",
     "shell.execute_reply.started": "2022-01-09T15:38:55.484168Z"
    },
    "id": "QiopikMHKzE2",
    "outputId": "93a387e9-a5a4-44cd-c08f-61e3746b31a7",
    "papermill": {
     "duration": 0.070457,
     "end_time": "2022-01-09T15:42:22.726359",
     "exception": false,
     "start_time": "2022-01-09T15:42:22.655902",
     "status": "completed"
    },
    "tags": []
   },
   "outputs": [
    {
     "data": {
      "text/plain": [
       "location      Yelahanka\n",
       "size              4 BHK\n",
       "total_sqft       2475.0\n",
       "bath                4.0\n",
       "price             186.0\n",
       "BHK                   4\n",
       "Name: 30, dtype: object"
      ]
     },
     "execution_count": 26,
     "metadata": {},
     "output_type": "execute_result"
    }
   ],
   "source": [
    "house_data.loc[30]"
   ]
  },
  {
   "cell_type": "markdown",
   "id": "efd2add8",
   "metadata": {
    "id": "L8jNs5UmcNHq",
    "papermill": {
     "duration": 0.059835,
     "end_time": "2022-01-09T15:42:22.846605",
     "exception": false,
     "start_time": "2022-01-09T15:42:22.786770",
     "status": "completed"
    },
    "tags": []
   },
   "source": [
    "**For Above row, it shows total_sqft as 2475 which is an average of the range 2100-2850**\n"
   ]
  },
  {
   "cell_type": "code",
   "execution_count": 27,
   "id": "66a6e943",
   "metadata": {
    "execution": {
     "iopub.execute_input": "2022-01-09T15:42:22.970731Z",
     "iopub.status.busy": "2022-01-09T15:42:22.970129Z",
     "iopub.status.idle": "2022-01-09T15:42:22.982654Z",
     "shell.execute_reply": "2022-01-09T15:42:22.983156Z",
     "shell.execute_reply.started": "2022-01-09T15:38:55.495593Z"
    },
    "id": "FI75080bK2bj",
    "outputId": "49de030e-0300-4a3e-bf93-abec89770ff1",
    "papermill": {
     "duration": 0.076856,
     "end_time": "2022-01-09T15:42:22.983319",
     "exception": false,
     "start_time": "2022-01-09T15:42:22.906463",
     "status": "completed"
    },
    "tags": []
   },
   "outputs": [
    {
     "data": {
      "text/html": [
       "<div>\n",
       "<style scoped>\n",
       "    .dataframe tbody tr th:only-of-type {\n",
       "        vertical-align: middle;\n",
       "    }\n",
       "\n",
       "    .dataframe tbody tr th {\n",
       "        vertical-align: top;\n",
       "    }\n",
       "\n",
       "    .dataframe thead th {\n",
       "        text-align: right;\n",
       "    }\n",
       "</style>\n",
       "<table border=\"1\" class=\"dataframe\">\n",
       "  <thead>\n",
       "    <tr style=\"text-align: right;\">\n",
       "      <th></th>\n",
       "      <th>location</th>\n",
       "      <th>size</th>\n",
       "      <th>total_sqft</th>\n",
       "      <th>bath</th>\n",
       "      <th>price</th>\n",
       "      <th>BHK</th>\n",
       "      <th>Price_per_sqft</th>\n",
       "    </tr>\n",
       "  </thead>\n",
       "  <tbody>\n",
       "    <tr>\n",
       "      <th>0</th>\n",
       "      <td>Electronic City Phase II</td>\n",
       "      <td>2 BHK</td>\n",
       "      <td>1056.0</td>\n",
       "      <td>2.0</td>\n",
       "      <td>39.07</td>\n",
       "      <td>2</td>\n",
       "      <td>3699.810606</td>\n",
       "    </tr>\n",
       "    <tr>\n",
       "      <th>1</th>\n",
       "      <td>Chikka Tirupathi</td>\n",
       "      <td>4 Bedroom</td>\n",
       "      <td>2600.0</td>\n",
       "      <td>5.0</td>\n",
       "      <td>120.00</td>\n",
       "      <td>4</td>\n",
       "      <td>4615.384615</td>\n",
       "    </tr>\n",
       "    <tr>\n",
       "      <th>2</th>\n",
       "      <td>Uttarahalli</td>\n",
       "      <td>3 BHK</td>\n",
       "      <td>1440.0</td>\n",
       "      <td>2.0</td>\n",
       "      <td>62.00</td>\n",
       "      <td>3</td>\n",
       "      <td>4305.555556</td>\n",
       "    </tr>\n",
       "    <tr>\n",
       "      <th>3</th>\n",
       "      <td>Lingadheeranahalli</td>\n",
       "      <td>3 BHK</td>\n",
       "      <td>1521.0</td>\n",
       "      <td>3.0</td>\n",
       "      <td>95.00</td>\n",
       "      <td>3</td>\n",
       "      <td>6245.890861</td>\n",
       "    </tr>\n",
       "    <tr>\n",
       "      <th>4</th>\n",
       "      <td>Kothanur</td>\n",
       "      <td>2 BHK</td>\n",
       "      <td>1200.0</td>\n",
       "      <td>2.0</td>\n",
       "      <td>51.00</td>\n",
       "      <td>2</td>\n",
       "      <td>4250.000000</td>\n",
       "    </tr>\n",
       "  </tbody>\n",
       "</table>\n",
       "</div>"
      ],
      "text/plain": [
       "                   location       size  total_sqft  bath   price  BHK  \\\n",
       "0  Electronic City Phase II      2 BHK      1056.0   2.0   39.07    2   \n",
       "1          Chikka Tirupathi  4 Bedroom      2600.0   5.0  120.00    4   \n",
       "2               Uttarahalli      3 BHK      1440.0   2.0   62.00    3   \n",
       "3        Lingadheeranahalli      3 BHK      1521.0   3.0   95.00    3   \n",
       "4                  Kothanur      2 BHK      1200.0   2.0   51.00    2   \n",
       "\n",
       "   Price_per_sqft  \n",
       "0     3699.810606  \n",
       "1     4615.384615  \n",
       "2     4305.555556  \n",
       "3     6245.890861  \n",
       "4     4250.000000  "
      ]
     },
     "execution_count": 27,
     "metadata": {},
     "output_type": "execute_result"
    }
   ],
   "source": [
    "# Creating a new column to find the price per sq-ft\n",
    "\n",
    "house_data['Price_per_sqft'] = house_data['price']*100000/house_data['total_sqft']\n",
    "house_data.head()"
   ]
  },
  {
   "cell_type": "markdown",
   "id": "c73fa84d",
   "metadata": {
    "id": "ecJLDJHucxh2",
    "papermill": {
     "duration": 0.062818,
     "end_time": "2022-01-09T15:42:23.109265",
     "exception": false,
     "start_time": "2022-01-09T15:42:23.046447",
     "status": "completed"
    },
    "tags": []
   },
   "source": [
    "## Dimensionality Reduction\n",
    "\n",
    "Any location having less than 10 data points should be tagged as \"other\" location. This way number of categories can be reduced by huge amount. Later on when do one hot encoding, it will help us with having fewer dummy columns"
   ]
  },
  {
   "cell_type": "code",
   "execution_count": 28,
   "id": "de9f33cd",
   "metadata": {
    "execution": {
     "iopub.execute_input": "2022-01-09T15:42:23.233728Z",
     "iopub.status.busy": "2022-01-09T15:42:23.233146Z",
     "iopub.status.idle": "2022-01-09T15:42:23.240515Z",
     "shell.execute_reply": "2022-01-09T15:42:23.241043Z",
     "shell.execute_reply.started": "2022-01-09T15:38:55.512882Z"
    },
    "id": "S_dLYyYtM3wK",
    "outputId": "7c2489b0-33d6-4b8e-9179-d558cf310449",
    "papermill": {
     "duration": 0.071235,
     "end_time": "2022-01-09T15:42:23.241205",
     "exception": false,
     "start_time": "2022-01-09T15:42:23.169970",
     "status": "completed"
    },
    "tags": []
   },
   "outputs": [
    {
     "data": {
      "text/plain": [
       "array(['Electronic City Phase II', 'Chikka Tirupathi', 'Uttarahalli', ...,\n",
       "       '12th cross srinivas nagar banshankari 3rd stage',\n",
       "       'Havanur extension', 'Abshot Layout'], dtype=object)"
      ]
     },
     "execution_count": 28,
     "metadata": {},
     "output_type": "execute_result"
    }
   ],
   "source": [
    "## let's work on the location column\n",
    "house_price = house_data.copy()\n",
    "house_price['location'].unique()"
   ]
  },
  {
   "cell_type": "code",
   "execution_count": 29,
   "id": "91833b8a",
   "metadata": {
    "execution": {
     "iopub.execute_input": "2022-01-09T15:42:23.368824Z",
     "iopub.status.busy": "2022-01-09T15:42:23.366606Z",
     "iopub.status.idle": "2022-01-09T15:42:23.371606Z",
     "shell.execute_reply": "2022-01-09T15:42:23.372062Z",
     "shell.execute_reply.started": "2022-01-09T15:38:55.527711Z"
    },
    "id": "FlzV5cLON_cm",
    "outputId": "96fff143-5439-4833-edc3-7e25d441bdb5",
    "papermill": {
     "duration": 0.068746,
     "end_time": "2022-01-09T15:42:23.372230",
     "exception": false,
     "start_time": "2022-01-09T15:42:23.303484",
     "status": "completed"
    },
    "tags": []
   },
   "outputs": [
    {
     "data": {
      "text/plain": [
       "13246"
      ]
     },
     "execution_count": 29,
     "metadata": {},
     "output_type": "execute_result"
    }
   ],
   "source": [
    "len(house_price['location'])"
   ]
  },
  {
   "cell_type": "code",
   "execution_count": 30,
   "id": "9832e8d7",
   "metadata": {
    "execution": {
     "iopub.execute_input": "2022-01-09T15:42:23.498969Z",
     "iopub.status.busy": "2022-01-09T15:42:23.498008Z",
     "iopub.status.idle": "2022-01-09T15:42:23.509387Z",
     "shell.execute_reply": "2022-01-09T15:42:23.509818Z",
     "shell.execute_reply.started": "2022-01-09T15:38:55.535158Z"
    },
    "id": "ZffO4Q4eOENK",
    "papermill": {
     "duration": 0.076527,
     "end_time": "2022-01-09T15:42:23.509997",
     "exception": false,
     "start_time": "2022-01-09T15:42:23.433470",
     "status": "completed"
    },
    "tags": []
   },
   "outputs": [],
   "source": [
    "## let's check each location in column\n",
    "\n",
    "house_price['location'] = house_price['location'].apply(lambda x: x.strip()) ## remove the spaces \n",
    "locations = house_price.groupby('location')['location'].agg('count').sort_values(ascending=False)"
   ]
  },
  {
   "cell_type": "code",
   "execution_count": 31,
   "id": "e646696a",
   "metadata": {
    "execution": {
     "iopub.execute_input": "2022-01-09T15:42:23.640252Z",
     "iopub.status.busy": "2022-01-09T15:42:23.639471Z",
     "iopub.status.idle": "2022-01-09T15:42:23.642934Z",
     "shell.execute_reply": "2022-01-09T15:42:23.642411Z",
     "shell.execute_reply.started": "2022-01-09T15:38:55.555863Z"
    },
    "id": "4yCz23ptOh59",
    "outputId": "b4aac218-2d87-45a6-c661-9a43a4e0b604",
    "papermill": {
     "duration": 0.071493,
     "end_time": "2022-01-09T15:42:23.643094",
     "exception": false,
     "start_time": "2022-01-09T15:42:23.571601",
     "status": "completed"
    },
    "tags": []
   },
   "outputs": [
    {
     "data": {
      "text/plain": [
       "location\n",
       "Whitefield               535\n",
       "Sarjapur  Road           392\n",
       "Electronic City          304\n",
       "Kanakpura Road           266\n",
       "Thanisandra              236\n",
       "                        ... \n",
       "1 Giri Nagar               1\n",
       "Kanakapura Road,           1\n",
       "Kanakapura main  Road      1\n",
       "Karnataka Shabarimala      1\n",
       "whitefiled                 1\n",
       "Name: location, Length: 1293, dtype: int64"
      ]
     },
     "execution_count": 31,
     "metadata": {},
     "output_type": "execute_result"
    }
   ],
   "source": [
    "locations"
   ]
  },
  {
   "cell_type": "code",
   "execution_count": 32,
   "id": "f2cc5b32",
   "metadata": {
    "execution": {
     "iopub.execute_input": "2022-01-09T15:42:23.770610Z",
     "iopub.status.busy": "2022-01-09T15:42:23.769665Z",
     "iopub.status.idle": "2022-01-09T15:42:23.775530Z",
     "shell.execute_reply": "2022-01-09T15:42:23.775942Z",
     "shell.execute_reply.started": "2022-01-09T15:38:55.564100Z"
    },
    "id": "rzoip2abOrEA",
    "outputId": "c92bab58-590d-409a-a67f-6af574fd7eab",
    "papermill": {
     "duration": 0.071707,
     "end_time": "2022-01-09T15:42:23.776127",
     "exception": false,
     "start_time": "2022-01-09T15:42:23.704420",
     "status": "completed"
    },
    "tags": []
   },
   "outputs": [
    {
     "data": {
      "text/plain": [
       "location\n",
       "Basapura                 10\n",
       "1st Block Koramangala    10\n",
       "Gunjur Palya             10\n",
       "Kalkere                  10\n",
       "Sector 1 HSR Layout      10\n",
       "                         ..\n",
       "1 Giri Nagar              1\n",
       "Kanakapura Road,          1\n",
       "Kanakapura main  Road     1\n",
       "Karnataka Shabarimala     1\n",
       "whitefiled                1\n",
       "Name: location, Length: 1052, dtype: int64"
      ]
     },
     "execution_count": 32,
     "metadata": {},
     "output_type": "execute_result"
    }
   ],
   "source": [
    "## let's check the location is 1 or 10 times \n",
    "\n",
    "locations[locations<=10]"
   ]
  },
  {
   "cell_type": "code",
   "execution_count": 33,
   "id": "a072e3e8",
   "metadata": {
    "execution": {
     "iopub.execute_input": "2022-01-09T15:42:23.905414Z",
     "iopub.status.busy": "2022-01-09T15:42:23.904455Z",
     "iopub.status.idle": "2022-01-09T15:42:23.910075Z",
     "shell.execute_reply": "2022-01-09T15:42:23.910620Z",
     "shell.execute_reply.started": "2022-01-09T15:38:55.577421Z"
    },
    "id": "qfyhOp6YP6MC",
    "outputId": "a647ce2e-0ef3-4097-c2bd-1628362ca4ec",
    "papermill": {
     "duration": 0.071452,
     "end_time": "2022-01-09T15:42:23.910791",
     "exception": false,
     "start_time": "2022-01-09T15:42:23.839339",
     "status": "completed"
    },
    "tags": []
   },
   "outputs": [
    {
     "data": {
      "text/plain": [
       "1052"
      ]
     },
     "execution_count": 33,
     "metadata": {},
     "output_type": "execute_result"
    }
   ],
   "source": [
    "len(locations[locations<=10])"
   ]
  },
  {
   "cell_type": "code",
   "execution_count": 34,
   "id": "d8da43d5",
   "metadata": {
    "execution": {
     "iopub.execute_input": "2022-01-09T15:42:24.038513Z",
     "iopub.status.busy": "2022-01-09T15:42:24.037660Z",
     "iopub.status.idle": "2022-01-09T15:42:24.044620Z",
     "shell.execute_reply": "2022-01-09T15:42:24.045190Z",
     "shell.execute_reply.started": "2022-01-09T15:38:55.588726Z"
    },
    "id": "Dt9Y6grXQAKf",
    "outputId": "1d8e3e2d-1c86-486b-91e1-105def3d5438",
    "papermill": {
     "duration": 0.072399,
     "end_time": "2022-01-09T15:42:24.045349",
     "exception": false,
     "start_time": "2022-01-09T15:42:23.972950",
     "status": "completed"
    },
    "tags": []
   },
   "outputs": [
    {
     "data": {
      "text/plain": [
       "location\n",
       "Basapura                 10\n",
       "1st Block Koramangala    10\n",
       "Gunjur Palya             10\n",
       "Kalkere                  10\n",
       "Sector 1 HSR Layout      10\n",
       "                         ..\n",
       "1 Giri Nagar              1\n",
       "Kanakapura Road,          1\n",
       "Kanakapura main  Road     1\n",
       "Karnataka Shabarimala     1\n",
       "whitefiled                1\n",
       "Name: location, Length: 1052, dtype: int64"
      ]
     },
     "execution_count": 34,
     "metadata": {},
     "output_type": "execute_result"
    }
   ],
   "source": [
    "locations_less_than_10 = locations[locations<=10]\n",
    "locations_less_than_10"
   ]
  },
  {
   "cell_type": "code",
   "execution_count": 35,
   "id": "30a5decd",
   "metadata": {
    "execution": {
     "iopub.execute_input": "2022-01-09T15:42:24.173176Z",
     "iopub.status.busy": "2022-01-09T15:42:24.172261Z",
     "iopub.status.idle": "2022-01-09T15:42:24.189533Z",
     "shell.execute_reply": "2022-01-09T15:42:24.190102Z",
     "shell.execute_reply.started": "2022-01-09T15:38:55.600004Z"
    },
    "id": "watbZePLQLO4",
    "papermill": {
     "duration": 0.082501,
     "end_time": "2022-01-09T15:42:24.190271",
     "exception": false,
     "start_time": "2022-01-09T15:42:24.107770",
     "status": "completed"
    },
    "tags": []
   },
   "outputs": [],
   "source": [
    "##let's put the \"locations_less_than_10\" in name of \"Other\" category..\n",
    "\n",
    "house_price['location'] = house_price.location.apply(lambda x: 'other' if x in locations_less_than_10 else x)"
   ]
  },
  {
   "cell_type": "code",
   "execution_count": 36,
   "id": "38082569",
   "metadata": {
    "execution": {
     "iopub.execute_input": "2022-01-09T15:42:24.318443Z",
     "iopub.status.busy": "2022-01-09T15:42:24.317571Z",
     "iopub.status.idle": "2022-01-09T15:42:24.323922Z",
     "shell.execute_reply": "2022-01-09T15:42:24.324465Z",
     "shell.execute_reply.started": "2022-01-09T15:38:55.620298Z"
    },
    "id": "RI8xqNfoQldx",
    "outputId": "034c6f42-84bc-4824-d6fa-dc850713a1ff",
    "papermill": {
     "duration": 0.071771,
     "end_time": "2022-01-09T15:42:24.324622",
     "exception": false,
     "start_time": "2022-01-09T15:42:24.252851",
     "status": "completed"
    },
    "tags": []
   },
   "outputs": [
    {
     "data": {
      "text/plain": [
       "0        Electronic City Phase II\n",
       "1                Chikka Tirupathi\n",
       "2                     Uttarahalli\n",
       "3              Lingadheeranahalli\n",
       "4                        Kothanur\n",
       "                   ...           \n",
       "13315                  Whitefield\n",
       "13316                       other\n",
       "13317       Raja Rajeshwari Nagar\n",
       "13318             Padmanabhanagar\n",
       "13319                Doddathoguru\n",
       "Name: location, Length: 13246, dtype: object"
      ]
     },
     "execution_count": 36,
     "metadata": {},
     "output_type": "execute_result"
    }
   ],
   "source": [
    "house_price['location']"
   ]
  },
  {
   "cell_type": "code",
   "execution_count": 37,
   "id": "54c4cd73",
   "metadata": {
    "execution": {
     "iopub.execute_input": "2022-01-09T15:42:24.451903Z",
     "iopub.status.busy": "2022-01-09T15:42:24.451065Z",
     "iopub.status.idle": "2022-01-09T15:42:24.464249Z",
     "shell.execute_reply": "2022-01-09T15:42:24.464718Z",
     "shell.execute_reply.started": "2022-01-09T15:38:55.630417Z"
    },
    "id": "CGGqqI4pQ3it",
    "outputId": "d8955267-d75e-41d7-9def-23226085347f",
    "papermill": {
     "duration": 0.078064,
     "end_time": "2022-01-09T15:42:24.464872",
     "exception": false,
     "start_time": "2022-01-09T15:42:24.386808",
     "status": "completed"
    },
    "tags": []
   },
   "outputs": [
    {
     "data": {
      "text/html": [
       "<div>\n",
       "<style scoped>\n",
       "    .dataframe tbody tr th:only-of-type {\n",
       "        vertical-align: middle;\n",
       "    }\n",
       "\n",
       "    .dataframe tbody tr th {\n",
       "        vertical-align: top;\n",
       "    }\n",
       "\n",
       "    .dataframe thead th {\n",
       "        text-align: right;\n",
       "    }\n",
       "</style>\n",
       "<table border=\"1\" class=\"dataframe\">\n",
       "  <thead>\n",
       "    <tr style=\"text-align: right;\">\n",
       "      <th></th>\n",
       "      <th>location</th>\n",
       "      <th>size</th>\n",
       "      <th>total_sqft</th>\n",
       "      <th>bath</th>\n",
       "      <th>price</th>\n",
       "      <th>BHK</th>\n",
       "      <th>Price_per_sqft</th>\n",
       "    </tr>\n",
       "  </thead>\n",
       "  <tbody>\n",
       "    <tr>\n",
       "      <th>0</th>\n",
       "      <td>Electronic City Phase II</td>\n",
       "      <td>2 BHK</td>\n",
       "      <td>1056.0</td>\n",
       "      <td>2.0</td>\n",
       "      <td>39.07</td>\n",
       "      <td>2</td>\n",
       "      <td>3699.810606</td>\n",
       "    </tr>\n",
       "    <tr>\n",
       "      <th>1</th>\n",
       "      <td>Chikka Tirupathi</td>\n",
       "      <td>4 Bedroom</td>\n",
       "      <td>2600.0</td>\n",
       "      <td>5.0</td>\n",
       "      <td>120.00</td>\n",
       "      <td>4</td>\n",
       "      <td>4615.384615</td>\n",
       "    </tr>\n",
       "    <tr>\n",
       "      <th>2</th>\n",
       "      <td>Uttarahalli</td>\n",
       "      <td>3 BHK</td>\n",
       "      <td>1440.0</td>\n",
       "      <td>2.0</td>\n",
       "      <td>62.00</td>\n",
       "      <td>3</td>\n",
       "      <td>4305.555556</td>\n",
       "    </tr>\n",
       "    <tr>\n",
       "      <th>3</th>\n",
       "      <td>Lingadheeranahalli</td>\n",
       "      <td>3 BHK</td>\n",
       "      <td>1521.0</td>\n",
       "      <td>3.0</td>\n",
       "      <td>95.00</td>\n",
       "      <td>3</td>\n",
       "      <td>6245.890861</td>\n",
       "    </tr>\n",
       "    <tr>\n",
       "      <th>4</th>\n",
       "      <td>Kothanur</td>\n",
       "      <td>2 BHK</td>\n",
       "      <td>1200.0</td>\n",
       "      <td>2.0</td>\n",
       "      <td>51.00</td>\n",
       "      <td>2</td>\n",
       "      <td>4250.000000</td>\n",
       "    </tr>\n",
       "    <tr>\n",
       "      <th>5</th>\n",
       "      <td>Whitefield</td>\n",
       "      <td>2 BHK</td>\n",
       "      <td>1170.0</td>\n",
       "      <td>2.0</td>\n",
       "      <td>38.00</td>\n",
       "      <td>2</td>\n",
       "      <td>3247.863248</td>\n",
       "    </tr>\n",
       "    <tr>\n",
       "      <th>6</th>\n",
       "      <td>Old Airport Road</td>\n",
       "      <td>4 BHK</td>\n",
       "      <td>2732.0</td>\n",
       "      <td>4.0</td>\n",
       "      <td>204.00</td>\n",
       "      <td>4</td>\n",
       "      <td>7467.057101</td>\n",
       "    </tr>\n",
       "    <tr>\n",
       "      <th>7</th>\n",
       "      <td>Rajaji Nagar</td>\n",
       "      <td>4 BHK</td>\n",
       "      <td>3300.0</td>\n",
       "      <td>4.0</td>\n",
       "      <td>600.00</td>\n",
       "      <td>4</td>\n",
       "      <td>18181.818182</td>\n",
       "    </tr>\n",
       "    <tr>\n",
       "      <th>8</th>\n",
       "      <td>Marathahalli</td>\n",
       "      <td>3 BHK</td>\n",
       "      <td>1310.0</td>\n",
       "      <td>3.0</td>\n",
       "      <td>63.25</td>\n",
       "      <td>3</td>\n",
       "      <td>4828.244275</td>\n",
       "    </tr>\n",
       "    <tr>\n",
       "      <th>9</th>\n",
       "      <td>other</td>\n",
       "      <td>6 Bedroom</td>\n",
       "      <td>1020.0</td>\n",
       "      <td>6.0</td>\n",
       "      <td>370.00</td>\n",
       "      <td>6</td>\n",
       "      <td>36274.509804</td>\n",
       "    </tr>\n",
       "  </tbody>\n",
       "</table>\n",
       "</div>"
      ],
      "text/plain": [
       "                   location       size  total_sqft  bath   price  BHK  \\\n",
       "0  Electronic City Phase II      2 BHK      1056.0   2.0   39.07    2   \n",
       "1          Chikka Tirupathi  4 Bedroom      2600.0   5.0  120.00    4   \n",
       "2               Uttarahalli      3 BHK      1440.0   2.0   62.00    3   \n",
       "3        Lingadheeranahalli      3 BHK      1521.0   3.0   95.00    3   \n",
       "4                  Kothanur      2 BHK      1200.0   2.0   51.00    2   \n",
       "5                Whitefield      2 BHK      1170.0   2.0   38.00    2   \n",
       "6          Old Airport Road      4 BHK      2732.0   4.0  204.00    4   \n",
       "7              Rajaji Nagar      4 BHK      3300.0   4.0  600.00    4   \n",
       "8              Marathahalli      3 BHK      1310.0   3.0   63.25    3   \n",
       "9                     other  6 Bedroom      1020.0   6.0  370.00    6   \n",
       "\n",
       "   Price_per_sqft  \n",
       "0     3699.810606  \n",
       "1     4615.384615  \n",
       "2     4305.555556  \n",
       "3     6245.890861  \n",
       "4     4250.000000  \n",
       "5     3247.863248  \n",
       "6     7467.057101  \n",
       "7    18181.818182  \n",
       "8     4828.244275  \n",
       "9    36274.509804  "
      ]
     },
     "execution_count": 37,
     "metadata": {},
     "output_type": "execute_result"
    }
   ],
   "source": [
    "house_price.head(10)"
   ]
  },
  {
   "cell_type": "code",
   "execution_count": 38,
   "id": "ab9189c8",
   "metadata": {
    "execution": {
     "iopub.execute_input": "2022-01-09T15:42:24.596217Z",
     "iopub.status.busy": "2022-01-09T15:42:24.595308Z",
     "iopub.status.idle": "2022-01-09T15:42:24.606445Z",
     "shell.execute_reply": "2022-01-09T15:42:24.606932Z",
     "shell.execute_reply.started": "2022-01-09T15:38:55.648659Z"
    },
    "id": "A9LZbs3BSmP2",
    "outputId": "7aeb4aa5-fc84-403e-e498-3762fcf83d21",
    "papermill": {
     "duration": 0.079592,
     "end_time": "2022-01-09T15:42:24.607108",
     "exception": false,
     "start_time": "2022-01-09T15:42:24.527516",
     "status": "completed"
    },
    "tags": []
   },
   "outputs": [
    {
     "data": {
      "text/html": [
       "<div>\n",
       "<style scoped>\n",
       "    .dataframe tbody tr th:only-of-type {\n",
       "        vertical-align: middle;\n",
       "    }\n",
       "\n",
       "    .dataframe tbody tr th {\n",
       "        vertical-align: top;\n",
       "    }\n",
       "\n",
       "    .dataframe thead th {\n",
       "        text-align: right;\n",
       "    }\n",
       "</style>\n",
       "<table border=\"1\" class=\"dataframe\">\n",
       "  <thead>\n",
       "    <tr style=\"text-align: right;\">\n",
       "      <th></th>\n",
       "      <th>location</th>\n",
       "      <th>size</th>\n",
       "      <th>total_sqft</th>\n",
       "      <th>bath</th>\n",
       "      <th>price</th>\n",
       "      <th>BHK</th>\n",
       "      <th>Price_per_sqft</th>\n",
       "    </tr>\n",
       "  </thead>\n",
       "  <tbody>\n",
       "    <tr>\n",
       "      <th>9</th>\n",
       "      <td>other</td>\n",
       "      <td>6 Bedroom</td>\n",
       "      <td>1020.0</td>\n",
       "      <td>6.0</td>\n",
       "      <td>370.0</td>\n",
       "      <td>6</td>\n",
       "      <td>36274.509804</td>\n",
       "    </tr>\n",
       "    <tr>\n",
       "      <th>45</th>\n",
       "      <td>HSR Layout</td>\n",
       "      <td>8 Bedroom</td>\n",
       "      <td>600.0</td>\n",
       "      <td>9.0</td>\n",
       "      <td>200.0</td>\n",
       "      <td>8</td>\n",
       "      <td>33333.333333</td>\n",
       "    </tr>\n",
       "    <tr>\n",
       "      <th>58</th>\n",
       "      <td>Murugeshpalya</td>\n",
       "      <td>6 Bedroom</td>\n",
       "      <td>1407.0</td>\n",
       "      <td>4.0</td>\n",
       "      <td>150.0</td>\n",
       "      <td>6</td>\n",
       "      <td>10660.980810</td>\n",
       "    </tr>\n",
       "    <tr>\n",
       "      <th>68</th>\n",
       "      <td>Devarachikkanahalli</td>\n",
       "      <td>8 Bedroom</td>\n",
       "      <td>1350.0</td>\n",
       "      <td>7.0</td>\n",
       "      <td>85.0</td>\n",
       "      <td>8</td>\n",
       "      <td>6296.296296</td>\n",
       "    </tr>\n",
       "    <tr>\n",
       "      <th>70</th>\n",
       "      <td>other</td>\n",
       "      <td>3 Bedroom</td>\n",
       "      <td>500.0</td>\n",
       "      <td>3.0</td>\n",
       "      <td>100.0</td>\n",
       "      <td>3</td>\n",
       "      <td>20000.000000</td>\n",
       "    </tr>\n",
       "  </tbody>\n",
       "</table>\n",
       "</div>"
      ],
      "text/plain": [
       "               location       size  total_sqft  bath  price  BHK  \\\n",
       "9                 other  6 Bedroom      1020.0   6.0  370.0    6   \n",
       "45           HSR Layout  8 Bedroom       600.0   9.0  200.0    8   \n",
       "58        Murugeshpalya  6 Bedroom      1407.0   4.0  150.0    6   \n",
       "68  Devarachikkanahalli  8 Bedroom      1350.0   7.0   85.0    8   \n",
       "70                other  3 Bedroom       500.0   3.0  100.0    3   \n",
       "\n",
       "    Price_per_sqft  \n",
       "9     36274.509804  \n",
       "45    33333.333333  \n",
       "58    10660.980810  \n",
       "68     6296.296296  \n",
       "70    20000.000000  "
      ]
     },
     "execution_count": 38,
     "metadata": {},
     "output_type": "execute_result"
    }
   ],
   "source": [
    "## let's check the sq ft area's  as per 1 bedroom consist 300 sqft..\n",
    "\n",
    "house_price[house_price['total_sqft']/house_price['BHK']<300].head()"
   ]
  },
  {
   "cell_type": "markdown",
   "id": "66dd4406",
   "metadata": {
    "id": "MmunaJIXUOGk",
    "papermill": {
     "duration": 0.063557,
     "end_time": "2022-01-09T15:42:24.733669",
     "exception": false,
     "start_time": "2022-01-09T15:42:24.670112",
     "status": "completed"
    },
    "tags": []
   },
   "source": [
    "**Insights**\n",
    "\n",
    "Check above data points. We have 6 bhk apartment with 1020 sqft. Another one is 8 bhk and total sqft is 600. These are clear data errors that can be removed safely"
   ]
  },
  {
   "cell_type": "code",
   "execution_count": 39,
   "id": "eabc2900",
   "metadata": {
    "execution": {
     "iopub.execute_input": "2022-01-09T15:42:24.863794Z",
     "iopub.status.busy": "2022-01-09T15:42:24.862751Z",
     "iopub.status.idle": "2022-01-09T15:42:24.867791Z",
     "shell.execute_reply": "2022-01-09T15:42:24.868305Z",
     "shell.execute_reply.started": "2022-01-09T15:38:55.666954Z"
    },
    "id": "I1SGM7o5T79r",
    "outputId": "654d95a5-904c-4fd6-fe8b-66313f097f35",
    "papermill": {
     "duration": 0.071963,
     "end_time": "2022-01-09T15:42:24.868466",
     "exception": false,
     "start_time": "2022-01-09T15:42:24.796503",
     "status": "completed"
    },
    "tags": []
   },
   "outputs": [
    {
     "data": {
      "text/plain": [
       "(13246, 7)"
      ]
     },
     "execution_count": 39,
     "metadata": {},
     "output_type": "execute_result"
    }
   ],
   "source": [
    "house_price.shape"
   ]
  },
  {
   "cell_type": "code",
   "execution_count": 40,
   "id": "ce7d9b90",
   "metadata": {
    "execution": {
     "iopub.execute_input": "2022-01-09T15:42:25.001485Z",
     "iopub.status.busy": "2022-01-09T15:42:25.000588Z",
     "iopub.status.idle": "2022-01-09T15:42:25.005753Z",
     "shell.execute_reply": "2022-01-09T15:42:25.006249Z",
     "shell.execute_reply.started": "2022-01-09T15:38:55.674405Z"
    },
    "id": "qd0DymRdUE7p",
    "papermill": {
     "duration": 0.073142,
     "end_time": "2022-01-09T15:42:25.006406",
     "exception": false,
     "start_time": "2022-01-09T15:42:24.933264",
     "status": "completed"
    },
    "tags": []
   },
   "outputs": [],
   "source": [
    "## remove the outliers \n",
    "\n",
    "house_prices = house_price[~(house_price['total_sqft']/house_price['BHK']<300)]"
   ]
  },
  {
   "cell_type": "code",
   "execution_count": 41,
   "id": "2e59f750",
   "metadata": {
    "execution": {
     "iopub.execute_input": "2022-01-09T15:42:25.137293Z",
     "iopub.status.busy": "2022-01-09T15:42:25.136376Z",
     "iopub.status.idle": "2022-01-09T15:42:25.140982Z",
     "shell.execute_reply": "2022-01-09T15:42:25.141437Z",
     "shell.execute_reply.started": "2022-01-09T15:38:55.685082Z"
    },
    "id": "id7V3aL7Um2X",
    "outputId": "2c8b6528-6a1b-4c27-bcce-4605e5daad39",
    "papermill": {
     "duration": 0.07138,
     "end_time": "2022-01-09T15:42:25.141596",
     "exception": false,
     "start_time": "2022-01-09T15:42:25.070216",
     "status": "completed"
    },
    "tags": []
   },
   "outputs": [
    {
     "data": {
      "text/plain": [
       "(12502, 7)"
      ]
     },
     "execution_count": 41,
     "metadata": {},
     "output_type": "execute_result"
    }
   ],
   "source": [
    "house_prices.shape"
   ]
  },
  {
   "cell_type": "code",
   "execution_count": 42,
   "id": "ad76885b",
   "metadata": {
    "execution": {
     "iopub.execute_input": "2022-01-09T15:42:25.273592Z",
     "iopub.status.busy": "2022-01-09T15:42:25.272656Z",
     "iopub.status.idle": "2022-01-09T15:42:25.279719Z",
     "shell.execute_reply": "2022-01-09T15:42:25.280137Z",
     "shell.execute_reply.started": "2022-01-09T15:38:55.695778Z"
    },
    "id": "q8TtXtLyUxvL",
    "outputId": "d49a9b1b-11f1-4f9d-cd0c-743f258537f5",
    "papermill": {
     "duration": 0.075416,
     "end_time": "2022-01-09T15:42:25.280304",
     "exception": false,
     "start_time": "2022-01-09T15:42:25.204888",
     "status": "completed"
    },
    "tags": []
   },
   "outputs": [
    {
     "data": {
      "text/plain": [
       "count     12456.000000\n",
       "mean       6308.502826\n",
       "std        4168.127339\n",
       "min         267.829813\n",
       "25%        4210.526316\n",
       "50%        5294.117647\n",
       "75%        6916.666667\n",
       "max      176470.588235\n",
       "Name: Price_per_sqft, dtype: float64"
      ]
     },
     "execution_count": 42,
     "metadata": {},
     "output_type": "execute_result"
    }
   ],
   "source": [
    "## let's check the price per sqft column\n",
    "\n",
    "house_prices.Price_per_sqft.describe()"
   ]
  },
  {
   "cell_type": "markdown",
   "id": "3795ba8e",
   "metadata": {
    "id": "-bS2fdq6VowZ",
    "papermill": {
     "duration": 0.062978,
     "end_time": "2022-01-09T15:42:25.406471",
     "exception": false,
     "start_time": "2022-01-09T15:42:25.343493",
     "status": "completed"
    },
    "tags": []
   },
   "source": [
    "There are some extreme values. So, we have to remove them or consize them..\n"
   ]
  },
  {
   "cell_type": "code",
   "execution_count": 43,
   "id": "f84e7457",
   "metadata": {
    "execution": {
     "iopub.execute_input": "2022-01-09T15:42:25.536854Z",
     "iopub.status.busy": "2022-01-09T15:42:25.535983Z",
     "iopub.status.idle": "2022-01-09T15:42:25.934513Z",
     "shell.execute_reply": "2022-01-09T15:42:25.933909Z",
     "shell.execute_reply.started": "2022-01-09T15:38:55.711371Z"
    },
    "id": "hmYZHyuvVmHN",
    "papermill": {
     "duration": 0.465165,
     "end_time": "2022-01-09T15:42:25.934662",
     "exception": false,
     "start_time": "2022-01-09T15:42:25.469497",
     "status": "completed"
    },
    "tags": []
   },
   "outputs": [],
   "source": [
    "## let's remove outliers in the price_per_sqft\n",
    "\n",
    "\n",
    "def remove_pps_outliers(df):\n",
    "  df_out = pd.DataFrame()\n",
    "  for key, subdf in df.groupby('location'):\n",
    "    m = np.mean(subdf.Price_per_sqft)\n",
    "    st = np.std(subdf.Price_per_sqft)\n",
    "    reduced_df = subdf[(subdf.Price_per_sqft>(m-st)) & (subdf.Price_per_sqft<=(m+st))]\n",
    "    df_out = pd.concat([df_out, reduced_df],ignore_index=True)\n",
    "  return df_out \n",
    "\n",
    "house = remove_pps_outliers(house_prices)   \n"
   ]
  },
  {
   "cell_type": "code",
   "execution_count": 44,
   "id": "7563c0e4",
   "metadata": {
    "execution": {
     "iopub.execute_input": "2022-01-09T15:42:26.067673Z",
     "iopub.status.busy": "2022-01-09T15:42:26.067062Z",
     "iopub.status.idle": "2022-01-09T15:42:26.069247Z",
     "shell.execute_reply": "2022-01-09T15:42:26.069664Z",
     "shell.execute_reply.started": "2022-01-09T15:38:56.134828Z"
    },
    "id": "MunkTlfGYS3E",
    "outputId": "1d06fea7-b27a-4000-864d-93053f9d1b2b",
    "papermill": {
     "duration": 0.071725,
     "end_time": "2022-01-09T15:42:26.069821",
     "exception": false,
     "start_time": "2022-01-09T15:42:25.998096",
     "status": "completed"
    },
    "tags": []
   },
   "outputs": [
    {
     "data": {
      "text/plain": [
       "(10241, 7)"
      ]
     },
     "execution_count": 44,
     "metadata": {},
     "output_type": "execute_result"
    }
   ],
   "source": [
    "house.shape"
   ]
  },
  {
   "cell_type": "markdown",
   "id": "acc1af20",
   "metadata": {
    "id": "o74hr8VmcEJQ",
    "papermill": {
     "duration": 0.06364,
     "end_time": "2022-01-09T15:42:26.197985",
     "exception": false,
     "start_time": "2022-01-09T15:42:26.134345",
     "status": "completed"
    },
    "tags": []
   },
   "source": [
    "### Visualizations"
   ]
  },
  {
   "cell_type": "code",
   "execution_count": 45,
   "id": "f2e373b8",
   "metadata": {
    "execution": {
     "iopub.execute_input": "2022-01-09T15:42:26.327903Z",
     "iopub.status.busy": "2022-01-09T15:42:26.327357Z",
     "iopub.status.idle": "2022-01-09T15:42:26.332389Z",
     "shell.execute_reply": "2022-01-09T15:42:26.332859Z",
     "shell.execute_reply.started": "2022-01-09T15:38:56.140728Z"
    },
    "id": "3zua0mlRYupk",
    "papermill": {
     "duration": 0.071497,
     "end_time": "2022-01-09T15:42:26.333011",
     "exception": false,
     "start_time": "2022-01-09T15:42:26.261514",
     "status": "completed"
    },
    "tags": []
   },
   "outputs": [],
   "source": [
    "##check the outliers for the BHK column\n",
    "\n",
    "def plot_scatter_chart(df,location):\n",
    "  bhk2 = df[(df.location == location) & (df.BHK==2)]\n",
    "  bhk3 = df[(df.location == location) & (df.BHK==3)]\n",
    "  matplotlib.rcParams['figure.figsize'] = (15,10)\n",
    "  plt.scatter(bhk2.total_sqft, bhk2.price, color='blue', label='2 BHK',s =50)\n",
    "  plt.scatter(bhk3.total_sqft, bhk3.price, color='red', marker='+',label='3 BHK', s=50)\n",
    "  plt.xlabel(\"Total Square Feet Area\")\n",
    "  plt.ylabel(\"Total Price\")\n",
    "  plt.title(\"Location\")\n",
    "  plt.legend() "
   ]
  },
  {
   "cell_type": "code",
   "execution_count": 46,
   "id": "956da9bc",
   "metadata": {
    "execution": {
     "iopub.execute_input": "2022-01-09T15:42:26.463976Z",
     "iopub.status.busy": "2022-01-09T15:42:26.463417Z",
     "iopub.status.idle": "2022-01-09T15:42:26.867014Z",
     "shell.execute_reply": "2022-01-09T15:42:26.867547Z",
     "shell.execute_reply.started": "2022-01-09T15:38:56.153879Z"
    },
    "id": "GPSCXh-nkjPU",
    "outputId": "67974a9f-fcd0-49af-9591-fc67bde28184",
    "papermill": {
     "duration": 0.47079,
     "end_time": "2022-01-09T15:42:26.867713",
     "exception": false,
     "start_time": "2022-01-09T15:42:26.396923",
     "status": "completed"
    },
    "tags": []
   },
   "outputs": [
    {
     "data": {
      "image/png": "[encoded data removed]",
      "text/plain": [
       "<Figure size 1080x720 with 1 Axes>"
      ]
     },
     "metadata": {
      "needs_background": "light"
     },
     "output_type": "display_data"
    }
   ],
   "source": [
    "plot_scatter_chart(house,\"Rajaji Nagar\")"
   ]
  },
  {
   "cell_type": "code",
   "execution_count": 47,
   "id": "afcc6495",
   "metadata": {
    "execution": {
     "iopub.execute_input": "2022-01-09T15:42:27.002955Z",
     "iopub.status.busy": "2022-01-09T15:42:27.002378Z",
     "iopub.status.idle": "2022-01-09T15:42:27.287770Z",
     "shell.execute_reply": "2022-01-09T15:42:27.287140Z",
     "shell.execute_reply.started": "2022-01-09T15:38:56.597435Z"
    },
    "id": "fkHG1YxUkrTm",
    "outputId": "727c85cf-12e5-4699-f9e6-c880f09f3494",
    "papermill": {
     "duration": 0.354961,
     "end_time": "2022-01-09T15:42:27.287913",
     "exception": false,
     "start_time": "2022-01-09T15:42:26.932952",
     "status": "completed"
    },
    "tags": []
   },
   "outputs": [
    {
     "data": {
      "image/png": "[encoded data removed]",
      "text/plain": [
       "<Figure size 1080x720 with 1 Axes>"
      ]
     },
     "metadata": {
      "needs_background": "light"
     },
     "output_type": "display_data"
    }
   ],
   "source": [
    "plot_scatter_chart(house,\"Electronic City Phase II\")"
   ]
  },
  {
   "cell_type": "code",
   "execution_count": 48,
   "id": "0983580e",
   "metadata": {
    "execution": {
     "iopub.execute_input": "2022-01-09T15:42:27.427663Z",
     "iopub.status.busy": "2022-01-09T15:42:27.427122Z",
     "iopub.status.idle": "2022-01-09T15:42:27.705051Z",
     "shell.execute_reply": "2022-01-09T15:42:27.704430Z",
     "shell.execute_reply.started": "2022-01-09T15:38:56.898824Z"
    },
    "id": "nvXz8mC7lhR5",
    "outputId": "131ae433-53a3-4946-d4ab-412fb253311c",
    "papermill": {
     "duration": 0.348954,
     "end_time": "2022-01-09T15:42:27.705207",
     "exception": false,
     "start_time": "2022-01-09T15:42:27.356253",
     "status": "completed"
    },
    "tags": []
   },
   "outputs": [
    {
     "data": {
      "image/png": "[encoded data removed]",
      "text/plain": [
       "<Figure size 1080x720 with 1 Axes>"
      ]
     },
     "metadata": {
      "needs_background": "light"
     },
     "output_type": "display_data"
    }
   ],
   "source": [
    "plot_scatter_chart(house,\"Whitefield\")"
   ]
  },
  {
   "cell_type": "markdown",
   "id": "3f5042d3",
   "metadata": {
    "id": "shP-OUnEkyoi",
    "papermill": {
     "duration": 0.066274,
     "end_time": "2022-01-09T15:42:27.840174",
     "exception": false,
     "start_time": "2022-01-09T15:42:27.773900",
     "status": "completed"
    },
    "tags": []
   },
   "source": [
    "**Insights**\n",
    "\n",
    "From the above chart it shows that, their is outlier which shows 2 BHK price is greater than 3 BHK. We should remove it.."
   ]
  },
  {
   "cell_type": "markdown",
   "id": "a7a5f6d5",
   "metadata": {
    "id": "YP6KAs3RmMg6",
    "papermill": {
     "duration": 0.068305,
     "end_time": "2022-01-09T15:42:27.975080",
     "exception": false,
     "start_time": "2022-01-09T15:42:27.906775",
     "status": "completed"
    },
    "tags": []
   },
   "source": [
    "**We should also remove properties where for same location, the price of(for example) 3 bedroom apartments is less than 2 bedroom apartment(with same square ft area). What we will do is for a given location, we will build a dictionary of stats per BHK, i.e.**\n",
    "\n",
    "{\n",
    "  '1' : {\n",
    "    'mean': 4000,\n",
    "    'std' :2000,\n",
    "    'count':34\n",
    "  },\n",
    "  '2' : {\n",
    "    'mean' : 4300,\n",
    "    'std' : 2300,\n",
    "    'count' : 22\n",
    "  },\n",
    "}\n",
    "\n",
    "Now we can remove those 2BHK apartments whose price_per_sqft is less than price_per_sqft of 1 BHK apartment"
   ]
  },
  {
   "cell_type": "code",
   "execution_count": 49,
   "id": "759b7e02",
   "metadata": {
    "execution": {
     "iopub.execute_input": "2022-01-09T15:42:28.115540Z",
     "iopub.status.busy": "2022-01-09T15:42:28.114953Z",
     "iopub.status.idle": "2022-01-09T15:42:28.120630Z",
     "shell.execute_reply": "2022-01-09T15:42:28.121097Z",
     "shell.execute_reply.started": "2022-01-09T15:38:57.190128Z"
    },
    "id": "gXuruvLJlJdG",
    "papermill": {
     "duration": 0.078925,
     "end_time": "2022-01-09T15:42:28.121263",
     "exception": false,
     "start_time": "2022-01-09T15:42:28.042338",
     "status": "completed"
    },
    "tags": []
   },
   "outputs": [],
   "source": [
    "def remove_bhk_outliers(df):\n",
    "  exclude_indices = np.array([])\n",
    "  for location, location_df in df.groupby('location'):\n",
    "    bhk_stats = {}\n",
    "    for bhk, bhk_df in location_df.groupby('BHK'):\n",
    "      bhk_stats[bhk] = {\n",
    "          'mean': np.mean(bhk_df.Price_per_sqft),\n",
    "          'std':np.std(bhk_df.Price_per_sqft),\n",
    "          'count':bhk_df.shape[0]\n",
    "      }\n",
    "      for bhk, bhk_df in location_df.groupby('BHK'):\n",
    "        stats = bhk_stats.get(bhk-1)\n",
    "        if stats and stats['count']>5:\n",
    "          exclude_indices = np.append(exclude_indices, bhk_df[bhk_df.Price_per_sqft<(stats['mean'])].index.values)\n",
    "  return df.drop(exclude_indices,axis='index')        "
   ]
  },
  {
   "cell_type": "markdown",
   "id": "01b3a2b5",
   "metadata": {
    "id": "lz8YBoIErQKv",
    "papermill": {
     "duration": 0.068129,
     "end_time": "2022-01-09T15:42:28.258668",
     "exception": false,
     "start_time": "2022-01-09T15:42:28.190539",
     "status": "completed"
    },
    "tags": []
   },
   "source": [
    "**Plot same scatter chart again to visualize price_per_sqft for 2 BHK and 3 BHK properties**"
   ]
  },
  {
   "cell_type": "code",
   "execution_count": 50,
   "id": "2c6d0814",
   "metadata": {
    "execution": {
     "iopub.execute_input": "2022-01-09T15:42:28.399652Z",
     "iopub.status.busy": "2022-01-09T15:42:28.398976Z",
     "iopub.status.idle": "2022-01-09T15:42:29.773508Z",
     "shell.execute_reply": "2022-01-09T15:42:29.773946Z",
     "shell.execute_reply.started": "2022-01-09T15:38:57.197801Z"
    },
    "id": "lL-3dV09rNFw",
    "outputId": "07ac46ef-33fd-48ff-c1e6-e654e75323ec",
    "papermill": {
     "duration": 1.446886,
     "end_time": "2022-01-09T15:42:29.774142",
     "exception": false,
     "start_time": "2022-01-09T15:42:28.327256",
     "status": "completed"
    },
    "tags": []
   },
   "outputs": [
    {
     "data": {
      "image/png": "[encoded data removed]",
      "text/plain": [
       "<Figure size 1080x720 with 1 Axes>"
      ]
     },
     "metadata": {
      "needs_background": "light"
     },
     "output_type": "display_data"
    }
   ],
   "source": [
    "houses = remove_bhk_outliers(house)\n",
    "plot_scatter_chart(houses, 'Rajaji Nagar')"
   ]
  },
  {
   "cell_type": "code",
   "execution_count": 51,
   "id": "51d297f5",
   "metadata": {
    "execution": {
     "iopub.execute_input": "2022-01-09T15:42:29.940420Z",
     "iopub.status.busy": "2022-01-09T15:42:29.937709Z",
     "iopub.status.idle": "2022-01-09T15:42:30.206720Z",
     "shell.execute_reply": "2022-01-09T15:42:30.207148Z",
     "shell.execute_reply.started": "2022-01-09T15:38:58.647699Z"
    },
    "id": "AsCPFwuNr5r8",
    "outputId": "a369dd3c-74ae-4dd2-b9e0-79e6255c53e2",
    "papermill": {
     "duration": 0.363934,
     "end_time": "2022-01-09T15:42:30.207321",
     "exception": false,
     "start_time": "2022-01-09T15:42:29.843387",
     "status": "completed"
    },
    "tags": []
   },
   "outputs": [
    {
     "data": {
      "image/png": "[encoded data removed]",
      "text/plain": [
       "<Figure size 1080x720 with 1 Axes>"
      ]
     },
     "metadata": {
      "needs_background": "light"
     },
     "output_type": "display_data"
    }
   ],
   "source": [
    "plot_scatter_chart(houses, 'Electronic City Phase II')"
   ]
  },
  {
   "cell_type": "code",
   "execution_count": 52,
   "id": "3aefb835",
   "metadata": {
    "execution": {
     "iopub.execute_input": "2022-01-09T15:42:30.371357Z",
     "iopub.status.busy": "2022-01-09T15:42:30.370694Z",
     "iopub.status.idle": "2022-01-09T15:42:30.582632Z",
     "shell.execute_reply": "2022-01-09T15:42:30.583045Z",
     "shell.execute_reply.started": "2022-01-09T15:38:58.944241Z"
    },
    "id": "63ITonyupn8O",
    "outputId": "533c3f82-6434-4df8-b189-a38e213991f0",
    "papermill": {
     "duration": 0.305758,
     "end_time": "2022-01-09T15:42:30.583231",
     "exception": false,
     "start_time": "2022-01-09T15:42:30.277473",
     "status": "completed"
    },
    "tags": []
   },
   "outputs": [
    {
     "data": {
      "text/plain": [
       "Text(0, 0.5, 'Count')"
      ]
     },
     "execution_count": 52,
     "metadata": {},
     "output_type": "execute_result"
    },
    {
     "data": {
      "image/png": "[encoded data removed]",
      "text/plain": [
       "<Figure size 1080x576 with 1 Axes>"
      ]
     },
     "metadata": {
      "needs_background": "light"
     },
     "output_type": "display_data"
    }
   ],
   "source": [
    "matplotlib.rcParams['figure.figsize'] = (15,8)\n",
    "plt.hist(houses.Price_per_sqft, rwidth=0.8)\n",
    "plt.xlabel(\"Price Per Sqaure Feet\")\n",
    "plt.ylabel(\"Count\")"
   ]
  },
  {
   "cell_type": "markdown",
   "id": "dcb4220e",
   "metadata": {
    "id": "jAp_YYO7qFhr",
    "papermill": {
     "duration": 0.069683,
     "end_time": "2022-01-09T15:42:30.722343",
     "exception": false,
     "start_time": "2022-01-09T15:42:30.652660",
     "status": "completed"
    },
    "tags": []
   },
   "source": [
    "The price is between the range of 1000-10000 price sqft."
   ]
  },
  {
   "cell_type": "code",
   "execution_count": 53,
   "id": "baca19dd",
   "metadata": {
    "execution": {
     "iopub.execute_input": "2022-01-09T15:42:30.867424Z",
     "iopub.status.busy": "2022-01-09T15:42:30.866831Z",
     "iopub.status.idle": "2022-01-09T15:42:30.872200Z",
     "shell.execute_reply": "2022-01-09T15:42:30.872695Z",
     "shell.execute_reply.started": "2022-01-09T15:38:59.135574Z"
    },
    "id": "drMqa5elqNBk",
    "outputId": "0c0322ca-8592-448d-8a80-da48bf1df0ca",
    "papermill": {
     "duration": 0.078683,
     "end_time": "2022-01-09T15:42:30.872866",
     "exception": false,
     "start_time": "2022-01-09T15:42:30.794183",
     "status": "completed"
    },
    "tags": []
   },
   "outputs": [
    {
     "data": {
      "text/plain": [
       "array([ 4.,  3.,  2.,  5.,  8.,  1.,  6.,  7.,  9., 12., 16., 13.])"
      ]
     },
     "execution_count": 53,
     "metadata": {},
     "output_type": "execute_result"
    }
   ],
   "source": [
    "houses['bath'].unique()"
   ]
  },
  {
   "cell_type": "code",
   "execution_count": 54,
   "id": "8eca00bc",
   "metadata": {
    "execution": {
     "iopub.execute_input": "2022-01-09T15:42:31.027788Z",
     "iopub.status.busy": "2022-01-09T15:42:31.027219Z",
     "iopub.status.idle": "2022-01-09T15:42:31.041527Z",
     "shell.execute_reply": "2022-01-09T15:42:31.042086Z",
     "shell.execute_reply.started": "2022-01-09T15:38:59.147389Z"
    },
    "id": "fz6uy1TiqSvm",
    "outputId": "3cca9c99-44a1-4a3a-faf1-55c46972da1d",
    "papermill": {
     "duration": 0.089868,
     "end_time": "2022-01-09T15:42:31.042240",
     "exception": false,
     "start_time": "2022-01-09T15:42:30.952372",
     "status": "completed"
    },
    "tags": []
   },
   "outputs": [
    {
     "data": {
      "text/html": [
       "<div>\n",
       "<style scoped>\n",
       "    .dataframe tbody tr th:only-of-type {\n",
       "        vertical-align: middle;\n",
       "    }\n",
       "\n",
       "    .dataframe tbody tr th {\n",
       "        vertical-align: top;\n",
       "    }\n",
       "\n",
       "    .dataframe thead th {\n",
       "        text-align: right;\n",
       "    }\n",
       "</style>\n",
       "<table border=\"1\" class=\"dataframe\">\n",
       "  <thead>\n",
       "    <tr style=\"text-align: right;\">\n",
       "      <th></th>\n",
       "      <th>location</th>\n",
       "      <th>size</th>\n",
       "      <th>total_sqft</th>\n",
       "      <th>bath</th>\n",
       "      <th>price</th>\n",
       "      <th>BHK</th>\n",
       "      <th>Price_per_sqft</th>\n",
       "    </tr>\n",
       "  </thead>\n",
       "  <tbody>\n",
       "    <tr>\n",
       "      <th>5277</th>\n",
       "      <td>Neeladri Nagar</td>\n",
       "      <td>10 BHK</td>\n",
       "      <td>4000.0</td>\n",
       "      <td>12.0</td>\n",
       "      <td>160.0</td>\n",
       "      <td>10</td>\n",
       "      <td>4000.000000</td>\n",
       "    </tr>\n",
       "    <tr>\n",
       "      <th>8486</th>\n",
       "      <td>other</td>\n",
       "      <td>10 BHK</td>\n",
       "      <td>12000.0</td>\n",
       "      <td>12.0</td>\n",
       "      <td>525.0</td>\n",
       "      <td>10</td>\n",
       "      <td>4375.000000</td>\n",
       "    </tr>\n",
       "    <tr>\n",
       "      <th>8575</th>\n",
       "      <td>other</td>\n",
       "      <td>16 BHK</td>\n",
       "      <td>10000.0</td>\n",
       "      <td>16.0</td>\n",
       "      <td>550.0</td>\n",
       "      <td>16</td>\n",
       "      <td>5500.000000</td>\n",
       "    </tr>\n",
       "    <tr>\n",
       "      <th>9308</th>\n",
       "      <td>other</td>\n",
       "      <td>11 BHK</td>\n",
       "      <td>6000.0</td>\n",
       "      <td>12.0</td>\n",
       "      <td>150.0</td>\n",
       "      <td>11</td>\n",
       "      <td>2500.000000</td>\n",
       "    </tr>\n",
       "    <tr>\n",
       "      <th>9639</th>\n",
       "      <td>other</td>\n",
       "      <td>13 BHK</td>\n",
       "      <td>5425.0</td>\n",
       "      <td>13.0</td>\n",
       "      <td>275.0</td>\n",
       "      <td>13</td>\n",
       "      <td>5069.124424</td>\n",
       "    </tr>\n",
       "  </tbody>\n",
       "</table>\n",
       "</div>"
      ],
      "text/plain": [
       "            location    size  total_sqft  bath  price  BHK  Price_per_sqft\n",
       "5277  Neeladri Nagar  10 BHK      4000.0  12.0  160.0   10     4000.000000\n",
       "8486           other  10 BHK     12000.0  12.0  525.0   10     4375.000000\n",
       "8575           other  16 BHK     10000.0  16.0  550.0   16     5500.000000\n",
       "9308           other  11 BHK      6000.0  12.0  150.0   11     2500.000000\n",
       "9639           other  13 BHK      5425.0  13.0  275.0   13     5069.124424"
      ]
     },
     "execution_count": 54,
     "metadata": {},
     "output_type": "execute_result"
    }
   ],
   "source": [
    "houses[house['bath']>10]"
   ]
  },
  {
   "cell_type": "code",
   "execution_count": 55,
   "id": "f622c5aa",
   "metadata": {
    "execution": {
     "iopub.execute_input": "2022-01-09T15:42:31.186366Z",
     "iopub.status.busy": "2022-01-09T15:42:31.185811Z",
     "iopub.status.idle": "2022-01-09T15:42:31.409180Z",
     "shell.execute_reply": "2022-01-09T15:42:31.408652Z",
     "shell.execute_reply.started": "2022-01-09T15:38:59.168302Z"
    },
    "id": "gMAlnPTnqdpQ",
    "outputId": "acfddaba-2bad-4cf3-8818-a63f5422796b",
    "papermill": {
     "duration": 0.296407,
     "end_time": "2022-01-09T15:42:31.409344",
     "exception": false,
     "start_time": "2022-01-09T15:42:31.112937",
     "status": "completed"
    },
    "tags": []
   },
   "outputs": [
    {
     "data": {
      "text/plain": [
       "Text(0, 0.5, 'Count')"
      ]
     },
     "execution_count": 55,
     "metadata": {},
     "output_type": "execute_result"
    },
    {
     "data": {
      "image/png": "[encoded data removed]",
      "text/plain": [
       "<Figure size 1080x576 with 1 Axes>"
      ]
     },
     "metadata": {
      "needs_background": "light"
     },
     "output_type": "display_data"
    }
   ],
   "source": [
    "plt.hist(houses.bath, rwidth=0.8)\n",
    "plt.xlabel(\"Number of bathrooms\")\n",
    "plt.ylabel(\"Count\")"
   ]
  },
  {
   "cell_type": "code",
   "execution_count": 56,
   "id": "fbed2ed4",
   "metadata": {
    "execution": {
     "iopub.execute_input": "2022-01-09T15:42:31.554640Z",
     "iopub.status.busy": "2022-01-09T15:42:31.554061Z",
     "iopub.status.idle": "2022-01-09T15:42:31.565937Z",
     "shell.execute_reply": "2022-01-09T15:42:31.566461Z",
     "shell.execute_reply.started": "2022-01-09T15:38:59.359080Z"
    },
    "id": "QbgzCMGHo1US",
    "outputId": "a6ce81a6-57d6-4ae9-be13-023d7d6c0663",
    "papermill": {
     "duration": 0.086429,
     "end_time": "2022-01-09T15:42:31.566618",
     "exception": false,
     "start_time": "2022-01-09T15:42:31.480189",
     "status": "completed"
    },
    "tags": []
   },
   "outputs": [
    {
     "data": {
      "text/html": [
       "<div>\n",
       "<style scoped>\n",
       "    .dataframe tbody tr th:only-of-type {\n",
       "        vertical-align: middle;\n",
       "    }\n",
       "\n",
       "    .dataframe tbody tr th {\n",
       "        vertical-align: top;\n",
       "    }\n",
       "\n",
       "    .dataframe thead th {\n",
       "        text-align: right;\n",
       "    }\n",
       "</style>\n",
       "<table border=\"1\" class=\"dataframe\">\n",
       "  <thead>\n",
       "    <tr style=\"text-align: right;\">\n",
       "      <th></th>\n",
       "      <th>location</th>\n",
       "      <th>size</th>\n",
       "      <th>total_sqft</th>\n",
       "      <th>bath</th>\n",
       "      <th>price</th>\n",
       "      <th>BHK</th>\n",
       "      <th>Price_per_sqft</th>\n",
       "    </tr>\n",
       "  </thead>\n",
       "  <tbody>\n",
       "    <tr>\n",
       "      <th>5277</th>\n",
       "      <td>Neeladri Nagar</td>\n",
       "      <td>10 BHK</td>\n",
       "      <td>4000.0</td>\n",
       "      <td>12.0</td>\n",
       "      <td>160.0</td>\n",
       "      <td>10</td>\n",
       "      <td>4000.000000</td>\n",
       "    </tr>\n",
       "    <tr>\n",
       "      <th>8486</th>\n",
       "      <td>other</td>\n",
       "      <td>10 BHK</td>\n",
       "      <td>12000.0</td>\n",
       "      <td>12.0</td>\n",
       "      <td>525.0</td>\n",
       "      <td>10</td>\n",
       "      <td>4375.000000</td>\n",
       "    </tr>\n",
       "    <tr>\n",
       "      <th>8575</th>\n",
       "      <td>other</td>\n",
       "      <td>16 BHK</td>\n",
       "      <td>10000.0</td>\n",
       "      <td>16.0</td>\n",
       "      <td>550.0</td>\n",
       "      <td>16</td>\n",
       "      <td>5500.000000</td>\n",
       "    </tr>\n",
       "    <tr>\n",
       "      <th>9308</th>\n",
       "      <td>other</td>\n",
       "      <td>11 BHK</td>\n",
       "      <td>6000.0</td>\n",
       "      <td>12.0</td>\n",
       "      <td>150.0</td>\n",
       "      <td>11</td>\n",
       "      <td>2500.000000</td>\n",
       "    </tr>\n",
       "    <tr>\n",
       "      <th>9639</th>\n",
       "      <td>other</td>\n",
       "      <td>13 BHK</td>\n",
       "      <td>5425.0</td>\n",
       "      <td>13.0</td>\n",
       "      <td>275.0</td>\n",
       "      <td>13</td>\n",
       "      <td>5069.124424</td>\n",
       "    </tr>\n",
       "  </tbody>\n",
       "</table>\n",
       "</div>"
      ],
      "text/plain": [
       "            location    size  total_sqft  bath  price  BHK  Price_per_sqft\n",
       "5277  Neeladri Nagar  10 BHK      4000.0  12.0  160.0   10     4000.000000\n",
       "8486           other  10 BHK     12000.0  12.0  525.0   10     4375.000000\n",
       "8575           other  16 BHK     10000.0  16.0  550.0   16     5500.000000\n",
       "9308           other  11 BHK      6000.0  12.0  150.0   11     2500.000000\n",
       "9639           other  13 BHK      5425.0  13.0  275.0   13     5069.124424"
      ]
     },
     "execution_count": 56,
     "metadata": {},
     "output_type": "execute_result"
    }
   ],
   "source": [
    "houses[houses.bath>10]"
   ]
  },
  {
   "cell_type": "markdown",
   "id": "57e12b61",
   "metadata": {
    "id": "pwDK_7ivsnUq",
    "papermill": {
     "duration": 0.070834,
     "end_time": "2022-01-09T15:42:31.708806",
     "exception": false,
     "start_time": "2022-01-09T15:42:31.637972",
     "status": "completed"
    },
    "tags": []
   },
   "source": [
    "**It is unusual to have 2 more bedrooms than number of bedrooms in a home**"
   ]
  },
  {
   "cell_type": "code",
   "execution_count": 57,
   "id": "9fe1d3dc",
   "metadata": {
    "execution": {
     "iopub.execute_input": "2022-01-09T15:42:31.854888Z",
     "iopub.status.busy": "2022-01-09T15:42:31.854323Z",
     "iopub.status.idle": "2022-01-09T15:42:31.865892Z",
     "shell.execute_reply": "2022-01-09T15:42:31.866362Z",
     "shell.execute_reply.started": "2022-01-09T15:38:59.375546Z"
    },
    "id": "Z4cz4UtPskWg",
    "outputId": "626c3c1f-da06-435d-f85c-5a0daeda8056",
    "papermill": {
     "duration": 0.0858,
     "end_time": "2022-01-09T15:42:31.866516",
     "exception": false,
     "start_time": "2022-01-09T15:42:31.780716",
     "status": "completed"
    },
    "tags": []
   },
   "outputs": [
    {
     "data": {
      "text/html": [
       "<div>\n",
       "<style scoped>\n",
       "    .dataframe tbody tr th:only-of-type {\n",
       "        vertical-align: middle;\n",
       "    }\n",
       "\n",
       "    .dataframe tbody tr th {\n",
       "        vertical-align: top;\n",
       "    }\n",
       "\n",
       "    .dataframe thead th {\n",
       "        text-align: right;\n",
       "    }\n",
       "</style>\n",
       "<table border=\"1\" class=\"dataframe\">\n",
       "  <thead>\n",
       "    <tr style=\"text-align: right;\">\n",
       "      <th></th>\n",
       "      <th>location</th>\n",
       "      <th>size</th>\n",
       "      <th>total_sqft</th>\n",
       "      <th>bath</th>\n",
       "      <th>price</th>\n",
       "      <th>BHK</th>\n",
       "      <th>Price_per_sqft</th>\n",
       "    </tr>\n",
       "  </thead>\n",
       "  <tbody>\n",
       "    <tr>\n",
       "      <th>1626</th>\n",
       "      <td>Chikkabanavar</td>\n",
       "      <td>4 Bedroom</td>\n",
       "      <td>2460.0</td>\n",
       "      <td>7.0</td>\n",
       "      <td>80.0</td>\n",
       "      <td>4</td>\n",
       "      <td>3252.032520</td>\n",
       "    </tr>\n",
       "    <tr>\n",
       "      <th>5238</th>\n",
       "      <td>Nagasandra</td>\n",
       "      <td>4 Bedroom</td>\n",
       "      <td>7000.0</td>\n",
       "      <td>8.0</td>\n",
       "      <td>450.0</td>\n",
       "      <td>4</td>\n",
       "      <td>6428.571429</td>\n",
       "    </tr>\n",
       "    <tr>\n",
       "      <th>6711</th>\n",
       "      <td>Thanisandra</td>\n",
       "      <td>3 BHK</td>\n",
       "      <td>1806.0</td>\n",
       "      <td>6.0</td>\n",
       "      <td>116.0</td>\n",
       "      <td>3</td>\n",
       "      <td>6423.034330</td>\n",
       "    </tr>\n",
       "    <tr>\n",
       "      <th>8411</th>\n",
       "      <td>other</td>\n",
       "      <td>6 BHK</td>\n",
       "      <td>11338.0</td>\n",
       "      <td>9.0</td>\n",
       "      <td>1000.0</td>\n",
       "      <td>6</td>\n",
       "      <td>8819.897689</td>\n",
       "    </tr>\n",
       "  </tbody>\n",
       "</table>\n",
       "</div>"
      ],
      "text/plain": [
       "           location       size  total_sqft  bath   price  BHK  Price_per_sqft\n",
       "1626  Chikkabanavar  4 Bedroom      2460.0   7.0    80.0    4     3252.032520\n",
       "5238     Nagasandra  4 Bedroom      7000.0   8.0   450.0    4     6428.571429\n",
       "6711    Thanisandra      3 BHK      1806.0   6.0   116.0    3     6423.034330\n",
       "8411          other      6 BHK     11338.0   9.0  1000.0    6     8819.897689"
      ]
     },
     "execution_count": 57,
     "metadata": {},
     "output_type": "execute_result"
    }
   ],
   "source": [
    "houses[houses.bath>houses.BHK+2]"
   ]
  },
  {
   "cell_type": "markdown",
   "id": "97e53ead",
   "metadata": {
    "id": "3oka49outABu",
    "papermill": {
     "duration": 0.091592,
     "end_time": "2022-01-09T15:42:32.029498",
     "exception": false,
     "start_time": "2022-01-09T15:42:31.937906",
     "status": "completed"
    },
    "tags": []
   },
   "source": [
    "**if you have 4 bedroom home and even if you have bathroom in all 4 rooms plus one guest bathroom, you will have total bath = total bed + 1 max. Anything above that is an outlier or a data error and can be removed**"
   ]
  },
  {
   "cell_type": "code",
   "execution_count": 58,
   "id": "a2085117",
   "metadata": {
    "execution": {
     "iopub.execute_input": "2022-01-09T15:42:32.186769Z",
     "iopub.status.busy": "2022-01-09T15:42:32.186237Z",
     "iopub.status.idle": "2022-01-09T15:42:32.190725Z",
     "shell.execute_reply": "2022-01-09T15:42:32.191207Z",
     "shell.execute_reply.started": "2022-01-09T15:38:59.398394Z"
    },
    "id": "gQ-A6ysMsyGp",
    "papermill": {
     "duration": 0.079159,
     "end_time": "2022-01-09T15:42:32.191373",
     "exception": false,
     "start_time": "2022-01-09T15:42:32.112214",
     "status": "completed"
    },
    "tags": []
   },
   "outputs": [],
   "source": [
    "price_house = houses[houses.bath<houses.BHK+2]"
   ]
  },
  {
   "cell_type": "code",
   "execution_count": 59,
   "id": "3d1696e2",
   "metadata": {
    "execution": {
     "iopub.execute_input": "2022-01-09T15:42:32.337155Z",
     "iopub.status.busy": "2022-01-09T15:42:32.336593Z",
     "iopub.status.idle": "2022-01-09T15:42:32.346905Z",
     "shell.execute_reply": "2022-01-09T15:42:32.347437Z",
     "shell.execute_reply.started": "2022-01-09T15:38:59.407560Z"
    },
    "id": "VbZ0HrxEtJ2e",
    "outputId": "2ba1e985-64a8-4726-d08e-d3c9ba597796",
    "papermill": {
     "duration": 0.08492,
     "end_time": "2022-01-09T15:42:32.347591",
     "exception": false,
     "start_time": "2022-01-09T15:42:32.262671",
     "status": "completed"
    },
    "tags": []
   },
   "outputs": [
    {
     "data": {
      "text/html": [
       "<div>\n",
       "<style scoped>\n",
       "    .dataframe tbody tr th:only-of-type {\n",
       "        vertical-align: middle;\n",
       "    }\n",
       "\n",
       "    .dataframe tbody tr th {\n",
       "        vertical-align: top;\n",
       "    }\n",
       "\n",
       "    .dataframe thead th {\n",
       "        text-align: right;\n",
       "    }\n",
       "</style>\n",
       "<table border=\"1\" class=\"dataframe\">\n",
       "  <thead>\n",
       "    <tr style=\"text-align: right;\">\n",
       "      <th></th>\n",
       "      <th>location</th>\n",
       "      <th>size</th>\n",
       "      <th>total_sqft</th>\n",
       "      <th>bath</th>\n",
       "      <th>price</th>\n",
       "      <th>BHK</th>\n",
       "      <th>Price_per_sqft</th>\n",
       "    </tr>\n",
       "  </thead>\n",
       "  <tbody>\n",
       "    <tr>\n",
       "      <th>0</th>\n",
       "      <td>1st Block Jayanagar</td>\n",
       "      <td>4 BHK</td>\n",
       "      <td>2850.0</td>\n",
       "      <td>4.0</td>\n",
       "      <td>428.0</td>\n",
       "      <td>4</td>\n",
       "      <td>15017.543860</td>\n",
       "    </tr>\n",
       "    <tr>\n",
       "      <th>1</th>\n",
       "      <td>1st Block Jayanagar</td>\n",
       "      <td>3 BHK</td>\n",
       "      <td>1630.0</td>\n",
       "      <td>3.0</td>\n",
       "      <td>194.0</td>\n",
       "      <td>3</td>\n",
       "      <td>11901.840491</td>\n",
       "    </tr>\n",
       "  </tbody>\n",
       "</table>\n",
       "</div>"
      ],
      "text/plain": [
       "              location   size  total_sqft  bath  price  BHK  Price_per_sqft\n",
       "0  1st Block Jayanagar  4 BHK      2850.0   4.0  428.0    4    15017.543860\n",
       "1  1st Block Jayanagar  3 BHK      1630.0   3.0  194.0    3    11901.840491"
      ]
     },
     "execution_count": 59,
     "metadata": {},
     "output_type": "execute_result"
    }
   ],
   "source": [
    "price_house.head(2)"
   ]
  },
  {
   "cell_type": "code",
   "execution_count": 60,
   "id": "cc1a3183",
   "metadata": {
    "execution": {
     "iopub.execute_input": "2022-01-09T15:42:32.494053Z",
     "iopub.status.busy": "2022-01-09T15:42:32.493486Z",
     "iopub.status.idle": "2022-01-09T15:42:32.505242Z",
     "shell.execute_reply": "2022-01-09T15:42:32.505761Z",
     "shell.execute_reply.started": "2022-01-09T15:38:59.424367Z"
    },
    "id": "Loz5aS_TtNxx",
    "outputId": "982efd56-c9ac-46ef-9c54-d32657b15547",
    "papermill": {
     "duration": 0.086671,
     "end_time": "2022-01-09T15:42:32.505919",
     "exception": false,
     "start_time": "2022-01-09T15:42:32.419248",
     "status": "completed"
    },
    "tags": []
   },
   "outputs": [
    {
     "data": {
      "text/html": [
       "<div>\n",
       "<style scoped>\n",
       "    .dataframe tbody tr th:only-of-type {\n",
       "        vertical-align: middle;\n",
       "    }\n",
       "\n",
       "    .dataframe tbody tr th {\n",
       "        vertical-align: top;\n",
       "    }\n",
       "\n",
       "    .dataframe thead th {\n",
       "        text-align: right;\n",
       "    }\n",
       "</style>\n",
       "<table border=\"1\" class=\"dataframe\">\n",
       "  <thead>\n",
       "    <tr style=\"text-align: right;\">\n",
       "      <th></th>\n",
       "      <th>location</th>\n",
       "      <th>total_sqft</th>\n",
       "      <th>bath</th>\n",
       "      <th>price</th>\n",
       "      <th>BHK</th>\n",
       "    </tr>\n",
       "  </thead>\n",
       "  <tbody>\n",
       "    <tr>\n",
       "      <th>0</th>\n",
       "      <td>1st Block Jayanagar</td>\n",
       "      <td>2850.0</td>\n",
       "      <td>4.0</td>\n",
       "      <td>428.0</td>\n",
       "      <td>4</td>\n",
       "    </tr>\n",
       "    <tr>\n",
       "      <th>1</th>\n",
       "      <td>1st Block Jayanagar</td>\n",
       "      <td>1630.0</td>\n",
       "      <td>3.0</td>\n",
       "      <td>194.0</td>\n",
       "      <td>3</td>\n",
       "    </tr>\n",
       "    <tr>\n",
       "      <th>2</th>\n",
       "      <td>1st Block Jayanagar</td>\n",
       "      <td>1875.0</td>\n",
       "      <td>2.0</td>\n",
       "      <td>235.0</td>\n",
       "      <td>3</td>\n",
       "    </tr>\n",
       "    <tr>\n",
       "      <th>3</th>\n",
       "      <td>1st Block Jayanagar</td>\n",
       "      <td>1200.0</td>\n",
       "      <td>2.0</td>\n",
       "      <td>130.0</td>\n",
       "      <td>3</td>\n",
       "    </tr>\n",
       "    <tr>\n",
       "      <th>4</th>\n",
       "      <td>1st Block Jayanagar</td>\n",
       "      <td>1235.0</td>\n",
       "      <td>2.0</td>\n",
       "      <td>148.0</td>\n",
       "      <td>2</td>\n",
       "    </tr>\n",
       "  </tbody>\n",
       "</table>\n",
       "</div>"
      ],
      "text/plain": [
       "              location  total_sqft  bath  price  BHK\n",
       "0  1st Block Jayanagar      2850.0   4.0  428.0    4\n",
       "1  1st Block Jayanagar      1630.0   3.0  194.0    3\n",
       "2  1st Block Jayanagar      1875.0   2.0  235.0    3\n",
       "3  1st Block Jayanagar      1200.0   2.0  130.0    3\n",
       "4  1st Block Jayanagar      1235.0   2.0  148.0    2"
      ]
     },
     "execution_count": 60,
     "metadata": {},
     "output_type": "execute_result"
    }
   ],
   "source": [
    "## let's drop some columns for the model building \n",
    "\n",
    "prices =price_house.drop(['size','Price_per_sqft'],axis='columns')\n",
    "prices.head()"
   ]
  },
  {
   "cell_type": "markdown",
   "id": "b0bb439e",
   "metadata": {
    "id": "jtWDkU-atp5I",
    "papermill": {
     "duration": 0.071997,
     "end_time": "2022-01-09T15:42:32.649880",
     "exception": false,
     "start_time": "2022-01-09T15:42:32.577883",
     "status": "completed"
    },
    "tags": []
   },
   "source": [
    "## Use One_hot_encoding For location"
   ]
  },
  {
   "cell_type": "code",
   "execution_count": 61,
   "id": "5cdcde9b",
   "metadata": {
    "execution": {
     "iopub.execute_input": "2022-01-09T15:42:32.797663Z",
     "iopub.status.busy": "2022-01-09T15:42:32.797128Z",
     "iopub.status.idle": "2022-01-09T15:42:32.817448Z",
     "shell.execute_reply": "2022-01-09T15:42:32.817893Z",
     "shell.execute_reply.started": "2022-01-09T15:38:59.442316Z"
    },
    "id": "1QjNMyc2tgW-",
    "outputId": "18fccf96-3d84-4aff-9f4e-cbc1bc7cdbbc",
    "papermill": {
     "duration": 0.096174,
     "end_time": "2022-01-09T15:42:32.818075",
     "exception": false,
     "start_time": "2022-01-09T15:42:32.721901",
     "status": "completed"
    },
    "tags": []
   },
   "outputs": [
    {
     "data": {
      "text/html": [
       "<div>\n",
       "<style scoped>\n",
       "    .dataframe tbody tr th:only-of-type {\n",
       "        vertical-align: middle;\n",
       "    }\n",
       "\n",
       "    .dataframe tbody tr th {\n",
       "        vertical-align: top;\n",
       "    }\n",
       "\n",
       "    .dataframe thead th {\n",
       "        text-align: right;\n",
       "    }\n",
       "</style>\n",
       "<table border=\"1\" class=\"dataframe\">\n",
       "  <thead>\n",
       "    <tr style=\"text-align: right;\">\n",
       "      <th></th>\n",
       "      <th>1st Block Jayanagar</th>\n",
       "      <th>1st Phase JP Nagar</th>\n",
       "      <th>2nd Phase Judicial Layout</th>\n",
       "      <th>2nd Stage Nagarbhavi</th>\n",
       "      <th>5th Block Hbr Layout</th>\n",
       "      <th>5th Phase JP Nagar</th>\n",
       "      <th>6th Phase JP Nagar</th>\n",
       "      <th>7th Phase JP Nagar</th>\n",
       "      <th>8th Phase JP Nagar</th>\n",
       "      <th>9th Phase JP Nagar</th>\n",
       "      <th>...</th>\n",
       "      <th>Vishveshwarya Layout</th>\n",
       "      <th>Vishwapriya Layout</th>\n",
       "      <th>Vittasandra</th>\n",
       "      <th>Whitefield</th>\n",
       "      <th>Yelachenahalli</th>\n",
       "      <th>Yelahanka</th>\n",
       "      <th>Yelahanka New Town</th>\n",
       "      <th>Yelenahalli</th>\n",
       "      <th>Yeshwanthpur</th>\n",
       "      <th>other</th>\n",
       "    </tr>\n",
       "  </thead>\n",
       "  <tbody>\n",
       "    <tr>\n",
       "      <th>0</th>\n",
       "      <td>1</td>\n",
       "      <td>0</td>\n",
       "      <td>0</td>\n",
       "      <td>0</td>\n",
       "      <td>0</td>\n",
       "      <td>0</td>\n",
       "      <td>0</td>\n",
       "      <td>0</td>\n",
       "      <td>0</td>\n",
       "      <td>0</td>\n",
       "      <td>...</td>\n",
       "      <td>0</td>\n",
       "      <td>0</td>\n",
       "      <td>0</td>\n",
       "      <td>0</td>\n",
       "      <td>0</td>\n",
       "      <td>0</td>\n",
       "      <td>0</td>\n",
       "      <td>0</td>\n",
       "      <td>0</td>\n",
       "      <td>0</td>\n",
       "    </tr>\n",
       "    <tr>\n",
       "      <th>1</th>\n",
       "      <td>1</td>\n",
       "      <td>0</td>\n",
       "      <td>0</td>\n",
       "      <td>0</td>\n",
       "      <td>0</td>\n",
       "      <td>0</td>\n",
       "      <td>0</td>\n",
       "      <td>0</td>\n",
       "      <td>0</td>\n",
       "      <td>0</td>\n",
       "      <td>...</td>\n",
       "      <td>0</td>\n",
       "      <td>0</td>\n",
       "      <td>0</td>\n",
       "      <td>0</td>\n",
       "      <td>0</td>\n",
       "      <td>0</td>\n",
       "      <td>0</td>\n",
       "      <td>0</td>\n",
       "      <td>0</td>\n",
       "      <td>0</td>\n",
       "    </tr>\n",
       "    <tr>\n",
       "      <th>2</th>\n",
       "      <td>1</td>\n",
       "      <td>0</td>\n",
       "      <td>0</td>\n",
       "      <td>0</td>\n",
       "      <td>0</td>\n",
       "      <td>0</td>\n",
       "      <td>0</td>\n",
       "      <td>0</td>\n",
       "      <td>0</td>\n",
       "      <td>0</td>\n",
       "      <td>...</td>\n",
       "      <td>0</td>\n",
       "      <td>0</td>\n",
       "      <td>0</td>\n",
       "      <td>0</td>\n",
       "      <td>0</td>\n",
       "      <td>0</td>\n",
       "      <td>0</td>\n",
       "      <td>0</td>\n",
       "      <td>0</td>\n",
       "      <td>0</td>\n",
       "    </tr>\n",
       "    <tr>\n",
       "      <th>3</th>\n",
       "      <td>1</td>\n",
       "      <td>0</td>\n",
       "      <td>0</td>\n",
       "      <td>0</td>\n",
       "      <td>0</td>\n",
       "      <td>0</td>\n",
       "      <td>0</td>\n",
       "      <td>0</td>\n",
       "      <td>0</td>\n",
       "      <td>0</td>\n",
       "      <td>...</td>\n",
       "      <td>0</td>\n",
       "      <td>0</td>\n",
       "      <td>0</td>\n",
       "      <td>0</td>\n",
       "      <td>0</td>\n",
       "      <td>0</td>\n",
       "      <td>0</td>\n",
       "      <td>0</td>\n",
       "      <td>0</td>\n",
       "      <td>0</td>\n",
       "    </tr>\n",
       "    <tr>\n",
       "      <th>4</th>\n",
       "      <td>1</td>\n",
       "      <td>0</td>\n",
       "      <td>0</td>\n",
       "      <td>0</td>\n",
       "      <td>0</td>\n",
       "      <td>0</td>\n",
       "      <td>0</td>\n",
       "      <td>0</td>\n",
       "      <td>0</td>\n",
       "      <td>0</td>\n",
       "      <td>...</td>\n",
       "      <td>0</td>\n",
       "      <td>0</td>\n",
       "      <td>0</td>\n",
       "      <td>0</td>\n",
       "      <td>0</td>\n",
       "      <td>0</td>\n",
       "      <td>0</td>\n",
       "      <td>0</td>\n",
       "      <td>0</td>\n",
       "      <td>0</td>\n",
       "    </tr>\n",
       "  </tbody>\n",
       "</table>\n",
       "<p>5 rows × 242 columns</p>\n",
       "</div>"
      ],
      "text/plain": [
       "   1st Block Jayanagar  1st Phase JP Nagar  2nd Phase Judicial Layout  \\\n",
       "0                    1                   0                          0   \n",
       "1                    1                   0                          0   \n",
       "2                    1                   0                          0   \n",
       "3                    1                   0                          0   \n",
       "4                    1                   0                          0   \n",
       "\n",
       "   2nd Stage Nagarbhavi  5th Block Hbr Layout  5th Phase JP Nagar  \\\n",
       "0                     0                     0                   0   \n",
       "1                     0                     0                   0   \n",
       "2                     0                     0                   0   \n",
       "3                     0                     0                   0   \n",
       "4                     0                     0                   0   \n",
       "\n",
       "   6th Phase JP Nagar  7th Phase JP Nagar  8th Phase JP Nagar  \\\n",
       "0                   0                   0                   0   \n",
       "1                   0                   0                   0   \n",
       "2                   0                   0                   0   \n",
       "3                   0                   0                   0   \n",
       "4                   0                   0                   0   \n",
       "\n",
       "   9th Phase JP Nagar  ...  Vishveshwarya Layout  Vishwapriya Layout  \\\n",
       "0                   0  ...                     0                   0   \n",
       "1                   0  ...                     0                   0   \n",
       "2                   0  ...                     0                   0   \n",
       "3                   0  ...                     0                   0   \n",
       "4                   0  ...                     0                   0   \n",
       "\n",
       "   Vittasandra  Whitefield  Yelachenahalli  Yelahanka  Yelahanka New Town  \\\n",
       "0            0           0               0          0                   0   \n",
       "1            0           0               0          0                   0   \n",
       "2            0           0               0          0                   0   \n",
       "3            0           0               0          0                   0   \n",
       "4            0           0               0          0                   0   \n",
       "\n",
       "   Yelenahalli  Yeshwanthpur  other  \n",
       "0            0             0      0  \n",
       "1            0             0      0  \n",
       "2            0             0      0  \n",
       "3            0             0      0  \n",
       "4            0             0      0  \n",
       "\n",
       "[5 rows x 242 columns]"
      ]
     },
     "execution_count": 61,
     "metadata": {},
     "output_type": "execute_result"
    }
   ],
   "source": [
    "dummies = pd.get_dummies(prices.location)\n",
    "dummies.head()"
   ]
  },
  {
   "cell_type": "code",
   "execution_count": 62,
   "id": "8dee33c8",
   "metadata": {
    "execution": {
     "iopub.execute_input": "2022-01-09T15:42:32.971394Z",
     "iopub.status.busy": "2022-01-09T15:42:32.970777Z",
     "iopub.status.idle": "2022-01-09T15:42:32.975987Z",
     "shell.execute_reply": "2022-01-09T15:42:32.976469Z",
     "shell.execute_reply.started": "2022-01-09T15:38:59.466276Z"
    },
    "id": "19LakeZyt0i3",
    "papermill": {
     "duration": 0.085246,
     "end_time": "2022-01-09T15:42:32.976640",
     "exception": false,
     "start_time": "2022-01-09T15:42:32.891394",
     "status": "completed"
    },
    "tags": []
   },
   "outputs": [],
   "source": [
    "price = pd.concat([prices, dummies.drop('other', axis='columns')], axis='columns')"
   ]
  },
  {
   "cell_type": "code",
   "execution_count": 63,
   "id": "c06fabab",
   "metadata": {
    "execution": {
     "iopub.execute_input": "2022-01-09T15:42:33.126556Z",
     "iopub.status.busy": "2022-01-09T15:42:33.125985Z",
     "iopub.status.idle": "2022-01-09T15:42:33.143031Z",
     "shell.execute_reply": "2022-01-09T15:42:33.143510Z",
     "shell.execute_reply.started": "2022-01-09T15:38:59.475689Z"
    },
    "id": "mzW2kBJUuGNt",
    "outputId": "31510cb4-313f-402a-fa06-0898162f056d",
    "papermill": {
     "duration": 0.093252,
     "end_time": "2022-01-09T15:42:33.143668",
     "exception": false,
     "start_time": "2022-01-09T15:42:33.050416",
     "status": "completed"
    },
    "tags": []
   },
   "outputs": [
    {
     "data": {
      "text/html": [
       "<div>\n",
       "<style scoped>\n",
       "    .dataframe tbody tr th:only-of-type {\n",
       "        vertical-align: middle;\n",
       "    }\n",
       "\n",
       "    .dataframe tbody tr th {\n",
       "        vertical-align: top;\n",
       "    }\n",
       "\n",
       "    .dataframe thead th {\n",
       "        text-align: right;\n",
       "    }\n",
       "</style>\n",
       "<table border=\"1\" class=\"dataframe\">\n",
       "  <thead>\n",
       "    <tr style=\"text-align: right;\">\n",
       "      <th></th>\n",
       "      <th>location</th>\n",
       "      <th>total_sqft</th>\n",
       "      <th>bath</th>\n",
       "      <th>price</th>\n",
       "      <th>BHK</th>\n",
       "      <th>1st Block Jayanagar</th>\n",
       "      <th>1st Phase JP Nagar</th>\n",
       "      <th>2nd Phase Judicial Layout</th>\n",
       "      <th>2nd Stage Nagarbhavi</th>\n",
       "      <th>5th Block Hbr Layout</th>\n",
       "      <th>...</th>\n",
       "      <th>Vijayanagar</th>\n",
       "      <th>Vishveshwarya Layout</th>\n",
       "      <th>Vishwapriya Layout</th>\n",
       "      <th>Vittasandra</th>\n",
       "      <th>Whitefield</th>\n",
       "      <th>Yelachenahalli</th>\n",
       "      <th>Yelahanka</th>\n",
       "      <th>Yelahanka New Town</th>\n",
       "      <th>Yelenahalli</th>\n",
       "      <th>Yeshwanthpur</th>\n",
       "    </tr>\n",
       "  </thead>\n",
       "  <tbody>\n",
       "    <tr>\n",
       "      <th>0</th>\n",
       "      <td>1st Block Jayanagar</td>\n",
       "      <td>2850.0</td>\n",
       "      <td>4.0</td>\n",
       "      <td>428.0</td>\n",
       "      <td>4</td>\n",
       "      <td>1</td>\n",
       "      <td>0</td>\n",
       "      <td>0</td>\n",
       "      <td>0</td>\n",
       "      <td>0</td>\n",
       "      <td>...</td>\n",
       "      <td>0</td>\n",
       "      <td>0</td>\n",
       "      <td>0</td>\n",
       "      <td>0</td>\n",
       "      <td>0</td>\n",
       "      <td>0</td>\n",
       "      <td>0</td>\n",
       "      <td>0</td>\n",
       "      <td>0</td>\n",
       "      <td>0</td>\n",
       "    </tr>\n",
       "    <tr>\n",
       "      <th>1</th>\n",
       "      <td>1st Block Jayanagar</td>\n",
       "      <td>1630.0</td>\n",
       "      <td>3.0</td>\n",
       "      <td>194.0</td>\n",
       "      <td>3</td>\n",
       "      <td>1</td>\n",
       "      <td>0</td>\n",
       "      <td>0</td>\n",
       "      <td>0</td>\n",
       "      <td>0</td>\n",
       "      <td>...</td>\n",
       "      <td>0</td>\n",
       "      <td>0</td>\n",
       "      <td>0</td>\n",
       "      <td>0</td>\n",
       "      <td>0</td>\n",
       "      <td>0</td>\n",
       "      <td>0</td>\n",
       "      <td>0</td>\n",
       "      <td>0</td>\n",
       "      <td>0</td>\n",
       "    </tr>\n",
       "    <tr>\n",
       "      <th>2</th>\n",
       "      <td>1st Block Jayanagar</td>\n",
       "      <td>1875.0</td>\n",
       "      <td>2.0</td>\n",
       "      <td>235.0</td>\n",
       "      <td>3</td>\n",
       "      <td>1</td>\n",
       "      <td>0</td>\n",
       "      <td>0</td>\n",
       "      <td>0</td>\n",
       "      <td>0</td>\n",
       "      <td>...</td>\n",
       "      <td>0</td>\n",
       "      <td>0</td>\n",
       "      <td>0</td>\n",
       "      <td>0</td>\n",
       "      <td>0</td>\n",
       "      <td>0</td>\n",
       "      <td>0</td>\n",
       "      <td>0</td>\n",
       "      <td>0</td>\n",
       "      <td>0</td>\n",
       "    </tr>\n",
       "    <tr>\n",
       "      <th>3</th>\n",
       "      <td>1st Block Jayanagar</td>\n",
       "      <td>1200.0</td>\n",
       "      <td>2.0</td>\n",
       "      <td>130.0</td>\n",
       "      <td>3</td>\n",
       "      <td>1</td>\n",
       "      <td>0</td>\n",
       "      <td>0</td>\n",
       "      <td>0</td>\n",
       "      <td>0</td>\n",
       "      <td>...</td>\n",
       "      <td>0</td>\n",
       "      <td>0</td>\n",
       "      <td>0</td>\n",
       "      <td>0</td>\n",
       "      <td>0</td>\n",
       "      <td>0</td>\n",
       "      <td>0</td>\n",
       "      <td>0</td>\n",
       "      <td>0</td>\n",
       "      <td>0</td>\n",
       "    </tr>\n",
       "    <tr>\n",
       "      <th>4</th>\n",
       "      <td>1st Block Jayanagar</td>\n",
       "      <td>1235.0</td>\n",
       "      <td>2.0</td>\n",
       "      <td>148.0</td>\n",
       "      <td>2</td>\n",
       "      <td>1</td>\n",
       "      <td>0</td>\n",
       "      <td>0</td>\n",
       "      <td>0</td>\n",
       "      <td>0</td>\n",
       "      <td>...</td>\n",
       "      <td>0</td>\n",
       "      <td>0</td>\n",
       "      <td>0</td>\n",
       "      <td>0</td>\n",
       "      <td>0</td>\n",
       "      <td>0</td>\n",
       "      <td>0</td>\n",
       "      <td>0</td>\n",
       "      <td>0</td>\n",
       "      <td>0</td>\n",
       "    </tr>\n",
       "  </tbody>\n",
       "</table>\n",
       "<p>5 rows × 246 columns</p>\n",
       "</div>"
      ],
      "text/plain": [
       "              location  total_sqft  bath  price  BHK  1st Block Jayanagar  \\\n",
       "0  1st Block Jayanagar      2850.0   4.0  428.0    4                    1   \n",
       "1  1st Block Jayanagar      1630.0   3.0  194.0    3                    1   \n",
       "2  1st Block Jayanagar      1875.0   2.0  235.0    3                    1   \n",
       "3  1st Block Jayanagar      1200.0   2.0  130.0    3                    1   \n",
       "4  1st Block Jayanagar      1235.0   2.0  148.0    2                    1   \n",
       "\n",
       "   1st Phase JP Nagar  2nd Phase Judicial Layout  2nd Stage Nagarbhavi  \\\n",
       "0                   0                          0                     0   \n",
       "1                   0                          0                     0   \n",
       "2                   0                          0                     0   \n",
       "3                   0                          0                     0   \n",
       "4                   0                          0                     0   \n",
       "\n",
       "   5th Block Hbr Layout  ...  Vijayanagar  Vishveshwarya Layout  \\\n",
       "0                     0  ...            0                     0   \n",
       "1                     0  ...            0                     0   \n",
       "2                     0  ...            0                     0   \n",
       "3                     0  ...            0                     0   \n",
       "4                     0  ...            0                     0   \n",
       "\n",
       "   Vishwapriya Layout  Vittasandra  Whitefield  Yelachenahalli  Yelahanka  \\\n",
       "0                   0            0           0               0          0   \n",
       "1                   0            0           0               0          0   \n",
       "2                   0            0           0               0          0   \n",
       "3                   0            0           0               0          0   \n",
       "4                   0            0           0               0          0   \n",
       "\n",
       "   Yelahanka New Town  Yelenahalli  Yeshwanthpur  \n",
       "0                   0            0             0  \n",
       "1                   0            0             0  \n",
       "2                   0            0             0  \n",
       "3                   0            0             0  \n",
       "4                   0            0             0  \n",
       "\n",
       "[5 rows x 246 columns]"
      ]
     },
     "execution_count": 63,
     "metadata": {},
     "output_type": "execute_result"
    }
   ],
   "source": [
    "price.head()"
   ]
  },
  {
   "cell_type": "code",
   "execution_count": 64,
   "id": "ae0a7a9d",
   "metadata": {
    "execution": {
     "iopub.execute_input": "2022-01-09T15:42:33.294681Z",
     "iopub.status.busy": "2022-01-09T15:42:33.294123Z",
     "iopub.status.idle": "2022-01-09T15:42:33.300430Z",
     "shell.execute_reply": "2022-01-09T15:42:33.300905Z",
     "shell.execute_reply.started": "2022-01-09T15:38:59.502093Z"
    },
    "id": "DY9y8IEeuHZ_",
    "papermill": {
     "duration": 0.083283,
     "end_time": "2022-01-09T15:42:33.301081",
     "exception": false,
     "start_time": "2022-01-09T15:42:33.217798",
     "status": "completed"
    },
    "tags": []
   },
   "outputs": [],
   "source": [
    "House_data = price.drop('location',axis='columns')"
   ]
  },
  {
   "cell_type": "code",
   "execution_count": 65,
   "id": "3d2ea932",
   "metadata": {
    "execution": {
     "iopub.execute_input": "2022-01-09T15:42:33.451169Z",
     "iopub.status.busy": "2022-01-09T15:42:33.450620Z",
     "iopub.status.idle": "2022-01-09T15:42:33.467949Z",
     "shell.execute_reply": "2022-01-09T15:42:33.468395Z",
     "shell.execute_reply.started": "2022-01-09T15:38:59.513266Z"
    },
    "id": "gE4GESN3uQ-Y",
    "outputId": "e7227c25-52be-44f7-e526-5bb49fdbb222",
    "papermill": {
     "duration": 0.093832,
     "end_time": "2022-01-09T15:42:33.468554",
     "exception": false,
     "start_time": "2022-01-09T15:42:33.374722",
     "status": "completed"
    },
    "tags": []
   },
   "outputs": [
    {
     "data": {
      "text/html": [
       "<div>\n",
       "<style scoped>\n",
       "    .dataframe tbody tr th:only-of-type {\n",
       "        vertical-align: middle;\n",
       "    }\n",
       "\n",
       "    .dataframe tbody tr th {\n",
       "        vertical-align: top;\n",
       "    }\n",
       "\n",
       "    .dataframe thead th {\n",
       "        text-align: right;\n",
       "    }\n",
       "</style>\n",
       "<table border=\"1\" class=\"dataframe\">\n",
       "  <thead>\n",
       "    <tr style=\"text-align: right;\">\n",
       "      <th></th>\n",
       "      <th>total_sqft</th>\n",
       "      <th>bath</th>\n",
       "      <th>price</th>\n",
       "      <th>BHK</th>\n",
       "      <th>1st Block Jayanagar</th>\n",
       "      <th>1st Phase JP Nagar</th>\n",
       "      <th>2nd Phase Judicial Layout</th>\n",
       "      <th>2nd Stage Nagarbhavi</th>\n",
       "      <th>5th Block Hbr Layout</th>\n",
       "      <th>5th Phase JP Nagar</th>\n",
       "      <th>...</th>\n",
       "      <th>Vijayanagar</th>\n",
       "      <th>Vishveshwarya Layout</th>\n",
       "      <th>Vishwapriya Layout</th>\n",
       "      <th>Vittasandra</th>\n",
       "      <th>Whitefield</th>\n",
       "      <th>Yelachenahalli</th>\n",
       "      <th>Yelahanka</th>\n",
       "      <th>Yelahanka New Town</th>\n",
       "      <th>Yelenahalli</th>\n",
       "      <th>Yeshwanthpur</th>\n",
       "    </tr>\n",
       "  </thead>\n",
       "  <tbody>\n",
       "    <tr>\n",
       "      <th>0</th>\n",
       "      <td>2850.0</td>\n",
       "      <td>4.0</td>\n",
       "      <td>428.0</td>\n",
       "      <td>4</td>\n",
       "      <td>1</td>\n",
       "      <td>0</td>\n",
       "      <td>0</td>\n",
       "      <td>0</td>\n",
       "      <td>0</td>\n",
       "      <td>0</td>\n",
       "      <td>...</td>\n",
       "      <td>0</td>\n",
       "      <td>0</td>\n",
       "      <td>0</td>\n",
       "      <td>0</td>\n",
       "      <td>0</td>\n",
       "      <td>0</td>\n",
       "      <td>0</td>\n",
       "      <td>0</td>\n",
       "      <td>0</td>\n",
       "      <td>0</td>\n",
       "    </tr>\n",
       "    <tr>\n",
       "      <th>1</th>\n",
       "      <td>1630.0</td>\n",
       "      <td>3.0</td>\n",
       "      <td>194.0</td>\n",
       "      <td>3</td>\n",
       "      <td>1</td>\n",
       "      <td>0</td>\n",
       "      <td>0</td>\n",
       "      <td>0</td>\n",
       "      <td>0</td>\n",
       "      <td>0</td>\n",
       "      <td>...</td>\n",
       "      <td>0</td>\n",
       "      <td>0</td>\n",
       "      <td>0</td>\n",
       "      <td>0</td>\n",
       "      <td>0</td>\n",
       "      <td>0</td>\n",
       "      <td>0</td>\n",
       "      <td>0</td>\n",
       "      <td>0</td>\n",
       "      <td>0</td>\n",
       "    </tr>\n",
       "    <tr>\n",
       "      <th>2</th>\n",
       "      <td>1875.0</td>\n",
       "      <td>2.0</td>\n",
       "      <td>235.0</td>\n",
       "      <td>3</td>\n",
       "      <td>1</td>\n",
       "      <td>0</td>\n",
       "      <td>0</td>\n",
       "      <td>0</td>\n",
       "      <td>0</td>\n",
       "      <td>0</td>\n",
       "      <td>...</td>\n",
       "      <td>0</td>\n",
       "      <td>0</td>\n",
       "      <td>0</td>\n",
       "      <td>0</td>\n",
       "      <td>0</td>\n",
       "      <td>0</td>\n",
       "      <td>0</td>\n",
       "      <td>0</td>\n",
       "      <td>0</td>\n",
       "      <td>0</td>\n",
       "    </tr>\n",
       "    <tr>\n",
       "      <th>3</th>\n",
       "      <td>1200.0</td>\n",
       "      <td>2.0</td>\n",
       "      <td>130.0</td>\n",
       "      <td>3</td>\n",
       "      <td>1</td>\n",
       "      <td>0</td>\n",
       "      <td>0</td>\n",
       "      <td>0</td>\n",
       "      <td>0</td>\n",
       "      <td>0</td>\n",
       "      <td>...</td>\n",
       "      <td>0</td>\n",
       "      <td>0</td>\n",
       "      <td>0</td>\n",
       "      <td>0</td>\n",
       "      <td>0</td>\n",
       "      <td>0</td>\n",
       "      <td>0</td>\n",
       "      <td>0</td>\n",
       "      <td>0</td>\n",
       "      <td>0</td>\n",
       "    </tr>\n",
       "    <tr>\n",
       "      <th>4</th>\n",
       "      <td>1235.0</td>\n",
       "      <td>2.0</td>\n",
       "      <td>148.0</td>\n",
       "      <td>2</td>\n",
       "      <td>1</td>\n",
       "      <td>0</td>\n",
       "      <td>0</td>\n",
       "      <td>0</td>\n",
       "      <td>0</td>\n",
       "      <td>0</td>\n",
       "      <td>...</td>\n",
       "      <td>0</td>\n",
       "      <td>0</td>\n",
       "      <td>0</td>\n",
       "      <td>0</td>\n",
       "      <td>0</td>\n",
       "      <td>0</td>\n",
       "      <td>0</td>\n",
       "      <td>0</td>\n",
       "      <td>0</td>\n",
       "      <td>0</td>\n",
       "    </tr>\n",
       "  </tbody>\n",
       "</table>\n",
       "<p>5 rows × 245 columns</p>\n",
       "</div>"
      ],
      "text/plain": [
       "   total_sqft  bath  price  BHK  1st Block Jayanagar  1st Phase JP Nagar  \\\n",
       "0      2850.0   4.0  428.0    4                    1                   0   \n",
       "1      1630.0   3.0  194.0    3                    1                   0   \n",
       "2      1875.0   2.0  235.0    3                    1                   0   \n",
       "3      1200.0   2.0  130.0    3                    1                   0   \n",
       "4      1235.0   2.0  148.0    2                    1                   0   \n",
       "\n",
       "   2nd Phase Judicial Layout  2nd Stage Nagarbhavi  5th Block Hbr Layout  \\\n",
       "0                          0                     0                     0   \n",
       "1                          0                     0                     0   \n",
       "2                          0                     0                     0   \n",
       "3                          0                     0                     0   \n",
       "4                          0                     0                     0   \n",
       "\n",
       "   5th Phase JP Nagar  ...  Vijayanagar  Vishveshwarya Layout  \\\n",
       "0                   0  ...            0                     0   \n",
       "1                   0  ...            0                     0   \n",
       "2                   0  ...            0                     0   \n",
       "3                   0  ...            0                     0   \n",
       "4                   0  ...            0                     0   \n",
       "\n",
       "   Vishwapriya Layout  Vittasandra  Whitefield  Yelachenahalli  Yelahanka  \\\n",
       "0                   0            0           0               0          0   \n",
       "1                   0            0           0               0          0   \n",
       "2                   0            0           0               0          0   \n",
       "3                   0            0           0               0          0   \n",
       "4                   0            0           0               0          0   \n",
       "\n",
       "   Yelahanka New Town  Yelenahalli  Yeshwanthpur  \n",
       "0                   0            0             0  \n",
       "1                   0            0             0  \n",
       "2                   0            0             0  \n",
       "3                   0            0             0  \n",
       "4                   0            0             0  \n",
       "\n",
       "[5 rows x 245 columns]"
      ]
     },
     "execution_count": 65,
     "metadata": {},
     "output_type": "execute_result"
    }
   ],
   "source": [
    "House_data.head()"
   ]
  },
  {
   "cell_type": "markdown",
   "id": "7bd8eeff",
   "metadata": {
    "id": "3g9m3qYkTRuQ",
    "papermill": {
     "duration": 0.074342,
     "end_time": "2022-01-09T15:42:33.617348",
     "exception": false,
     "start_time": "2022-01-09T15:42:33.543006",
     "status": "completed"
    },
    "tags": []
   },
   "source": [
    "## Build a Model"
   ]
  },
  {
   "cell_type": "code",
   "execution_count": 66,
   "id": "80b195f6",
   "metadata": {
    "execution": {
     "iopub.execute_input": "2022-01-09T15:42:33.771572Z",
     "iopub.status.busy": "2022-01-09T15:42:33.770946Z",
     "iopub.status.idle": "2022-01-09T15:42:33.774446Z",
     "shell.execute_reply": "2022-01-09T15:42:33.773892Z",
     "shell.execute_reply.started": "2022-01-09T15:38:59.536699Z"
    },
    "id": "YBWd4_rpuabY",
    "outputId": "f4957b35-26d7-46cb-d883-3a8e8285594d",
    "papermill": {
     "duration": 0.082323,
     "end_time": "2022-01-09T15:42:33.774578",
     "exception": false,
     "start_time": "2022-01-09T15:42:33.692255",
     "status": "completed"
    },
    "tags": []
   },
   "outputs": [
    {
     "data": {
      "text/plain": [
       "(7251, 245)"
      ]
     },
     "execution_count": 66,
     "metadata": {},
     "output_type": "execute_result"
    }
   ],
   "source": [
    "House_data.shape"
   ]
  },
  {
   "cell_type": "code",
   "execution_count": 67,
   "id": "60d82010",
   "metadata": {
    "execution": {
     "iopub.execute_input": "2022-01-09T15:42:33.929927Z",
     "iopub.status.busy": "2022-01-09T15:42:33.929323Z",
     "iopub.status.idle": "2022-01-09T15:42:33.954091Z",
     "shell.execute_reply": "2022-01-09T15:42:33.954634Z",
     "shell.execute_reply.started": "2022-01-09T15:38:59.543494Z"
    },
    "id": "1OxzOgkyTVZO",
    "outputId": "00925074-5715-41a2-8c53-35db90921b70",
    "papermill": {
     "duration": 0.103885,
     "end_time": "2022-01-09T15:42:33.954804",
     "exception": false,
     "start_time": "2022-01-09T15:42:33.850919",
     "status": "completed"
    },
    "tags": []
   },
   "outputs": [
    {
     "data": {
      "text/html": [
       "<div>\n",
       "<style scoped>\n",
       "    .dataframe tbody tr th:only-of-type {\n",
       "        vertical-align: middle;\n",
       "    }\n",
       "\n",
       "    .dataframe tbody tr th {\n",
       "        vertical-align: top;\n",
       "    }\n",
       "\n",
       "    .dataframe thead th {\n",
       "        text-align: right;\n",
       "    }\n",
       "</style>\n",
       "<table border=\"1\" class=\"dataframe\">\n",
       "  <thead>\n",
       "    <tr style=\"text-align: right;\">\n",
       "      <th></th>\n",
       "      <th>total_sqft</th>\n",
       "      <th>bath</th>\n",
       "      <th>BHK</th>\n",
       "      <th>1st Block Jayanagar</th>\n",
       "      <th>1st Phase JP Nagar</th>\n",
       "      <th>2nd Phase Judicial Layout</th>\n",
       "      <th>2nd Stage Nagarbhavi</th>\n",
       "      <th>5th Block Hbr Layout</th>\n",
       "      <th>5th Phase JP Nagar</th>\n",
       "      <th>6th Phase JP Nagar</th>\n",
       "      <th>...</th>\n",
       "      <th>Vijayanagar</th>\n",
       "      <th>Vishveshwarya Layout</th>\n",
       "      <th>Vishwapriya Layout</th>\n",
       "      <th>Vittasandra</th>\n",
       "      <th>Whitefield</th>\n",
       "      <th>Yelachenahalli</th>\n",
       "      <th>Yelahanka</th>\n",
       "      <th>Yelahanka New Town</th>\n",
       "      <th>Yelenahalli</th>\n",
       "      <th>Yeshwanthpur</th>\n",
       "    </tr>\n",
       "  </thead>\n",
       "  <tbody>\n",
       "    <tr>\n",
       "      <th>0</th>\n",
       "      <td>2850.0</td>\n",
       "      <td>4.0</td>\n",
       "      <td>4</td>\n",
       "      <td>1</td>\n",
       "      <td>0</td>\n",
       "      <td>0</td>\n",
       "      <td>0</td>\n",
       "      <td>0</td>\n",
       "      <td>0</td>\n",
       "      <td>0</td>\n",
       "      <td>...</td>\n",
       "      <td>0</td>\n",
       "      <td>0</td>\n",
       "      <td>0</td>\n",
       "      <td>0</td>\n",
       "      <td>0</td>\n",
       "      <td>0</td>\n",
       "      <td>0</td>\n",
       "      <td>0</td>\n",
       "      <td>0</td>\n",
       "      <td>0</td>\n",
       "    </tr>\n",
       "    <tr>\n",
       "      <th>1</th>\n",
       "      <td>1630.0</td>\n",
       "      <td>3.0</td>\n",
       "      <td>3</td>\n",
       "      <td>1</td>\n",
       "      <td>0</td>\n",
       "      <td>0</td>\n",
       "      <td>0</td>\n",
       "      <td>0</td>\n",
       "      <td>0</td>\n",
       "      <td>0</td>\n",
       "      <td>...</td>\n",
       "      <td>0</td>\n",
       "      <td>0</td>\n",
       "      <td>0</td>\n",
       "      <td>0</td>\n",
       "      <td>0</td>\n",
       "      <td>0</td>\n",
       "      <td>0</td>\n",
       "      <td>0</td>\n",
       "      <td>0</td>\n",
       "      <td>0</td>\n",
       "    </tr>\n",
       "    <tr>\n",
       "      <th>2</th>\n",
       "      <td>1875.0</td>\n",
       "      <td>2.0</td>\n",
       "      <td>3</td>\n",
       "      <td>1</td>\n",
       "      <td>0</td>\n",
       "      <td>0</td>\n",
       "      <td>0</td>\n",
       "      <td>0</td>\n",
       "      <td>0</td>\n",
       "      <td>0</td>\n",
       "      <td>...</td>\n",
       "      <td>0</td>\n",
       "      <td>0</td>\n",
       "      <td>0</td>\n",
       "      <td>0</td>\n",
       "      <td>0</td>\n",
       "      <td>0</td>\n",
       "      <td>0</td>\n",
       "      <td>0</td>\n",
       "      <td>0</td>\n",
       "      <td>0</td>\n",
       "    </tr>\n",
       "    <tr>\n",
       "      <th>3</th>\n",
       "      <td>1200.0</td>\n",
       "      <td>2.0</td>\n",
       "      <td>3</td>\n",
       "      <td>1</td>\n",
       "      <td>0</td>\n",
       "      <td>0</td>\n",
       "      <td>0</td>\n",
       "      <td>0</td>\n",
       "      <td>0</td>\n",
       "      <td>0</td>\n",
       "      <td>...</td>\n",
       "      <td>0</td>\n",
       "      <td>0</td>\n",
       "      <td>0</td>\n",
       "      <td>0</td>\n",
       "      <td>0</td>\n",
       "      <td>0</td>\n",
       "      <td>0</td>\n",
       "      <td>0</td>\n",
       "      <td>0</td>\n",
       "      <td>0</td>\n",
       "    </tr>\n",
       "    <tr>\n",
       "      <th>4</th>\n",
       "      <td>1235.0</td>\n",
       "      <td>2.0</td>\n",
       "      <td>2</td>\n",
       "      <td>1</td>\n",
       "      <td>0</td>\n",
       "      <td>0</td>\n",
       "      <td>0</td>\n",
       "      <td>0</td>\n",
       "      <td>0</td>\n",
       "      <td>0</td>\n",
       "      <td>...</td>\n",
       "      <td>0</td>\n",
       "      <td>0</td>\n",
       "      <td>0</td>\n",
       "      <td>0</td>\n",
       "      <td>0</td>\n",
       "      <td>0</td>\n",
       "      <td>0</td>\n",
       "      <td>0</td>\n",
       "      <td>0</td>\n",
       "      <td>0</td>\n",
       "    </tr>\n",
       "    <tr>\n",
       "      <th>...</th>\n",
       "      <td>...</td>\n",
       "      <td>...</td>\n",
       "      <td>...</td>\n",
       "      <td>...</td>\n",
       "      <td>...</td>\n",
       "      <td>...</td>\n",
       "      <td>...</td>\n",
       "      <td>...</td>\n",
       "      <td>...</td>\n",
       "      <td>...</td>\n",
       "      <td>...</td>\n",
       "      <td>...</td>\n",
       "      <td>...</td>\n",
       "      <td>...</td>\n",
       "      <td>...</td>\n",
       "      <td>...</td>\n",
       "      <td>...</td>\n",
       "      <td>...</td>\n",
       "      <td>...</td>\n",
       "      <td>...</td>\n",
       "      <td>...</td>\n",
       "    </tr>\n",
       "    <tr>\n",
       "      <th>10232</th>\n",
       "      <td>1200.0</td>\n",
       "      <td>2.0</td>\n",
       "      <td>2</td>\n",
       "      <td>0</td>\n",
       "      <td>0</td>\n",
       "      <td>0</td>\n",
       "      <td>0</td>\n",
       "      <td>0</td>\n",
       "      <td>0</td>\n",
       "      <td>0</td>\n",
       "      <td>...</td>\n",
       "      <td>0</td>\n",
       "      <td>0</td>\n",
       "      <td>0</td>\n",
       "      <td>0</td>\n",
       "      <td>0</td>\n",
       "      <td>0</td>\n",
       "      <td>0</td>\n",
       "      <td>0</td>\n",
       "      <td>0</td>\n",
       "      <td>0</td>\n",
       "    </tr>\n",
       "    <tr>\n",
       "      <th>10233</th>\n",
       "      <td>1800.0</td>\n",
       "      <td>1.0</td>\n",
       "      <td>1</td>\n",
       "      <td>0</td>\n",
       "      <td>0</td>\n",
       "      <td>0</td>\n",
       "      <td>0</td>\n",
       "      <td>0</td>\n",
       "      <td>0</td>\n",
       "      <td>0</td>\n",
       "      <td>...</td>\n",
       "      <td>0</td>\n",
       "      <td>0</td>\n",
       "      <td>0</td>\n",
       "      <td>0</td>\n",
       "      <td>0</td>\n",
       "      <td>0</td>\n",
       "      <td>0</td>\n",
       "      <td>0</td>\n",
       "      <td>0</td>\n",
       "      <td>0</td>\n",
       "    </tr>\n",
       "    <tr>\n",
       "      <th>10236</th>\n",
       "      <td>1353.0</td>\n",
       "      <td>2.0</td>\n",
       "      <td>2</td>\n",
       "      <td>0</td>\n",
       "      <td>0</td>\n",
       "      <td>0</td>\n",
       "      <td>0</td>\n",
       "      <td>0</td>\n",
       "      <td>0</td>\n",
       "      <td>0</td>\n",
       "      <td>...</td>\n",
       "      <td>0</td>\n",
       "      <td>0</td>\n",
       "      <td>0</td>\n",
       "      <td>0</td>\n",
       "      <td>0</td>\n",
       "      <td>0</td>\n",
       "      <td>0</td>\n",
       "      <td>0</td>\n",
       "      <td>0</td>\n",
       "      <td>0</td>\n",
       "    </tr>\n",
       "    <tr>\n",
       "      <th>10237</th>\n",
       "      <td>812.0</td>\n",
       "      <td>1.0</td>\n",
       "      <td>1</td>\n",
       "      <td>0</td>\n",
       "      <td>0</td>\n",
       "      <td>0</td>\n",
       "      <td>0</td>\n",
       "      <td>0</td>\n",
       "      <td>0</td>\n",
       "      <td>0</td>\n",
       "      <td>...</td>\n",
       "      <td>0</td>\n",
       "      <td>0</td>\n",
       "      <td>0</td>\n",
       "      <td>0</td>\n",
       "      <td>0</td>\n",
       "      <td>0</td>\n",
       "      <td>0</td>\n",
       "      <td>0</td>\n",
       "      <td>0</td>\n",
       "      <td>0</td>\n",
       "    </tr>\n",
       "    <tr>\n",
       "      <th>10240</th>\n",
       "      <td>3600.0</td>\n",
       "      <td>5.0</td>\n",
       "      <td>4</td>\n",
       "      <td>0</td>\n",
       "      <td>0</td>\n",
       "      <td>0</td>\n",
       "      <td>0</td>\n",
       "      <td>0</td>\n",
       "      <td>0</td>\n",
       "      <td>0</td>\n",
       "      <td>...</td>\n",
       "      <td>0</td>\n",
       "      <td>0</td>\n",
       "      <td>0</td>\n",
       "      <td>0</td>\n",
       "      <td>0</td>\n",
       "      <td>0</td>\n",
       "      <td>0</td>\n",
       "      <td>0</td>\n",
       "      <td>0</td>\n",
       "      <td>0</td>\n",
       "    </tr>\n",
       "  </tbody>\n",
       "</table>\n",
       "<p>7251 rows × 244 columns</p>\n",
       "</div>"
      ],
      "text/plain": [
       "       total_sqft  bath  BHK  1st Block Jayanagar  1st Phase JP Nagar  \\\n",
       "0          2850.0   4.0    4                    1                   0   \n",
       "1          1630.0   3.0    3                    1                   0   \n",
       "2          1875.0   2.0    3                    1                   0   \n",
       "3          1200.0   2.0    3                    1                   0   \n",
       "4          1235.0   2.0    2                    1                   0   \n",
       "...           ...   ...  ...                  ...                 ...   \n",
       "10232      1200.0   2.0    2                    0                   0   \n",
       "10233      1800.0   1.0    1                    0                   0   \n",
       "10236      1353.0   2.0    2                    0                   0   \n",
       "10237       812.0   1.0    1                    0                   0   \n",
       "10240      3600.0   5.0    4                    0                   0   \n",
       "\n",
       "       2nd Phase Judicial Layout  2nd Stage Nagarbhavi  5th Block Hbr Layout  \\\n",
       "0                              0                     0                     0   \n",
       "1                              0                     0                     0   \n",
       "2                              0                     0                     0   \n",
       "3                              0                     0                     0   \n",
       "4                              0                     0                     0   \n",
       "...                          ...                   ...                   ...   \n",
       "10232                          0                     0                     0   \n",
       "10233                          0                     0                     0   \n",
       "10236                          0                     0                     0   \n",
       "10237                          0                     0                     0   \n",
       "10240                          0                     0                     0   \n",
       "\n",
       "       5th Phase JP Nagar  6th Phase JP Nagar  ...  Vijayanagar  \\\n",
       "0                       0                   0  ...            0   \n",
       "1                       0                   0  ...            0   \n",
       "2                       0                   0  ...            0   \n",
       "3                       0                   0  ...            0   \n",
       "4                       0                   0  ...            0   \n",
       "...                   ...                 ...  ...          ...   \n",
       "10232                   0                   0  ...            0   \n",
       "10233                   0                   0  ...            0   \n",
       "10236                   0                   0  ...            0   \n",
       "10237                   0                   0  ...            0   \n",
       "10240                   0                   0  ...            0   \n",
       "\n",
       "       Vishveshwarya Layout  Vishwapriya Layout  Vittasandra  Whitefield  \\\n",
       "0                         0                   0            0           0   \n",
       "1                         0                   0            0           0   \n",
       "2                         0                   0            0           0   \n",
       "3                         0                   0            0           0   \n",
       "4                         0                   0            0           0   \n",
       "...                     ...                 ...          ...         ...   \n",
       "10232                     0                   0            0           0   \n",
       "10233                     0                   0            0           0   \n",
       "10236                     0                   0            0           0   \n",
       "10237                     0                   0            0           0   \n",
       "10240                     0                   0            0           0   \n",
       "\n",
       "       Yelachenahalli  Yelahanka  Yelahanka New Town  Yelenahalli  \\\n",
       "0                   0          0                   0            0   \n",
       "1                   0          0                   0            0   \n",
       "2                   0          0                   0            0   \n",
       "3                   0          0                   0            0   \n",
       "4                   0          0                   0            0   \n",
       "...               ...        ...                 ...          ...   \n",
       "10232               0          0                   0            0   \n",
       "10233               0          0                   0            0   \n",
       "10236               0          0                   0            0   \n",
       "10237               0          0                   0            0   \n",
       "10240               0          0                   0            0   \n",
       "\n",
       "       Yeshwanthpur  \n",
       "0                 0  \n",
       "1                 0  \n",
       "2                 0  \n",
       "3                 0  \n",
       "4                 0  \n",
       "...             ...  \n",
       "10232             0  \n",
       "10233             0  \n",
       "10236             0  \n",
       "10237             0  \n",
       "10240             0  \n",
       "\n",
       "[7251 rows x 244 columns]"
      ]
     },
     "execution_count": 67,
     "metadata": {},
     "output_type": "execute_result"
    }
   ],
   "source": [
    "X = House_data.drop(['price'], axis='columns')\n",
    "X"
   ]
  },
  {
   "cell_type": "code",
   "execution_count": 68,
   "id": "a9e1209f",
   "metadata": {
    "execution": {
     "iopub.execute_input": "2022-01-09T15:42:34.110603Z",
     "iopub.status.busy": "2022-01-09T15:42:34.110014Z",
     "iopub.status.idle": "2022-01-09T15:42:34.116278Z",
     "shell.execute_reply": "2022-01-09T15:42:34.116699Z",
     "shell.execute_reply.started": "2022-01-09T15:38:59.574156Z"
    },
    "id": "PPYxU804TcH-",
    "outputId": "c09fdacd-fad3-4559-a468-84299db70505",
    "papermill": {
     "duration": 0.085872,
     "end_time": "2022-01-09T15:42:34.116875",
     "exception": false,
     "start_time": "2022-01-09T15:42:34.031003",
     "status": "completed"
    },
    "tags": []
   },
   "outputs": [
    {
     "data": {
      "text/plain": [
       "0        428.0\n",
       "1        194.0\n",
       "2        235.0\n",
       "3        130.0\n",
       "4        148.0\n",
       "         ...  \n",
       "10232     70.0\n",
       "10233    200.0\n",
       "10236    110.0\n",
       "10237     26.0\n",
       "10240    400.0\n",
       "Name: price, Length: 7251, dtype: float64"
      ]
     },
     "execution_count": 68,
     "metadata": {},
     "output_type": "execute_result"
    }
   ],
   "source": [
    "y = House_data['price']\n",
    "y"
   ]
  },
  {
   "cell_type": "code",
   "execution_count": 69,
   "id": "4f2710cd",
   "metadata": {
    "execution": {
     "iopub.execute_input": "2022-01-09T15:42:34.271226Z",
     "iopub.status.busy": "2022-01-09T15:42:34.270649Z",
     "iopub.status.idle": "2022-01-09T15:42:34.274864Z",
     "shell.execute_reply": "2022-01-09T15:42:34.275311Z",
     "shell.execute_reply.started": "2022-01-09T15:38:59.583947Z"
    },
    "id": "iD-Dn8ReTrH9",
    "outputId": "9dede26c-6f53-4e2c-d499-dd4cf1eff945",
    "papermill": {
     "duration": 0.082985,
     "end_time": "2022-01-09T15:42:34.275465",
     "exception": false,
     "start_time": "2022-01-09T15:42:34.192480",
     "status": "completed"
    },
    "tags": []
   },
   "outputs": [
    {
     "data": {
      "text/plain": [
       "7251"
      ]
     },
     "execution_count": 69,
     "metadata": {},
     "output_type": "execute_result"
    }
   ],
   "source": [
    "len(y)"
   ]
  },
  {
   "cell_type": "code",
   "execution_count": 70,
   "id": "2b5d5266",
   "metadata": {
    "execution": {
     "iopub.execute_input": "2022-01-09T15:42:34.429762Z",
     "iopub.status.busy": "2022-01-09T15:42:34.429205Z",
     "iopub.status.idle": "2022-01-09T15:42:35.248362Z",
     "shell.execute_reply": "2022-01-09T15:42:35.248806Z",
     "shell.execute_reply.started": "2022-01-09T15:38:59.595595Z"
    },
    "id": "tbbUGRN3TsnJ",
    "papermill": {
     "duration": 0.898025,
     "end_time": "2022-01-09T15:42:35.248980",
     "exception": false,
     "start_time": "2022-01-09T15:42:34.350955",
     "status": "completed"
    },
    "tags": []
   },
   "outputs": [],
   "source": [
    "from sklearn.model_selection import train_test_split\n",
    "X_train, X_test, y_train, y_test = train_test_split(X,y,test_size=0.2, random_state=10)"
   ]
  },
  {
   "cell_type": "code",
   "execution_count": 71,
   "id": "5ae8bcb3",
   "metadata": {
    "execution": {
     "iopub.execute_input": "2022-01-09T15:42:35.409653Z",
     "iopub.status.busy": "2022-01-09T15:42:35.408925Z",
     "iopub.status.idle": "2022-01-09T15:42:35.578576Z",
     "shell.execute_reply": "2022-01-09T15:42:35.579052Z",
     "shell.execute_reply.started": "2022-01-09T15:39:00.592645Z"
    },
    "id": "XFwJuQKMT8sh",
    "outputId": "0c5f26ef-54a7-4127-aa99-39093a559101",
    "papermill": {
     "duration": 0.254432,
     "end_time": "2022-01-09T15:42:35.579324",
     "exception": false,
     "start_time": "2022-01-09T15:42:35.324892",
     "status": "completed"
    },
    "tags": []
   },
   "outputs": [
    {
     "data": {
      "text/plain": [
       "0.8452277697874291"
      ]
     },
     "execution_count": 71,
     "metadata": {},
     "output_type": "execute_result"
    }
   ],
   "source": [
    "from sklearn.linear_model import LinearRegression\n",
    "lr_clf = LinearRegression()\n",
    "lr_clf.fit(X_train, y_train)\n",
    "lr_clf.score(X_test,y_test)"
   ]
  },
  {
   "cell_type": "markdown",
   "id": "12506b93",
   "metadata": {
    "id": "5BcWN7JIUu2L",
    "papermill": {
     "duration": 0.075819,
     "end_time": "2022-01-09T15:42:35.787437",
     "exception": false,
     "start_time": "2022-01-09T15:42:35.711618",
     "status": "completed"
    },
    "tags": []
   },
   "source": [
    "**Use  K-Fold cross validation to measure accuracy of our LinearRegression Model**"
   ]
  },
  {
   "cell_type": "code",
   "execution_count": 72,
   "id": "9a26c691",
   "metadata": {
    "execution": {
     "iopub.execute_input": "2022-01-09T15:42:35.948002Z",
     "iopub.status.busy": "2022-01-09T15:42:35.947418Z",
     "iopub.status.idle": "2022-01-09T15:42:36.493929Z",
     "shell.execute_reply": "2022-01-09T15:42:36.495164Z",
     "shell.execute_reply.started": "2022-01-09T15:39:00.792472Z"
    },
    "id": "u7Az39xfURiY",
    "outputId": "7cdc12d7-8354-4603-f52c-9daeb864c4df",
    "papermill": {
     "duration": 0.629052,
     "end_time": "2022-01-09T15:42:36.495422",
     "exception": false,
     "start_time": "2022-01-09T15:42:35.866370",
     "status": "completed"
    },
    "tags": []
   },
   "outputs": [
    {
     "data": {
      "text/plain": [
       "array([0.82430186, 0.77166234, 0.85089567, 0.80837764, 0.83653286])"
      ]
     },
     "execution_count": 72,
     "metadata": {},
     "output_type": "execute_result"
    }
   ],
   "source": [
    "from sklearn.model_selection import ShuffleSplit\n",
    "from sklearn.model_selection import cross_val_score\n",
    "cv = ShuffleSplit(n_splits=5, test_size=0.2, random_state=0)\n",
    "\n",
    "cross_val_score(LinearRegression(),X,y, cv=cv)"
   ]
  },
  {
   "cell_type": "markdown",
   "id": "d930f8c2",
   "metadata": {
    "id": "6YmFskRCVSEM",
    "papermill": {
     "duration": 0.076518,
     "end_time": "2022-01-09T15:42:36.703289",
     "exception": false,
     "start_time": "2022-01-09T15:42:36.626771",
     "status": "completed"
    },
    "tags": []
   },
   "source": [
    "**We can see that in 5 iterations we get a score above 80% all the time. This is pretty good but we want to test few other algorithms for regression to see if we can get even better score. We will use GridSearchCV for this purpose**"
   ]
  },
  {
   "cell_type": "markdown",
   "id": "6931d44c",
   "metadata": {
    "id": "QDbOnvQEVX29",
    "papermill": {
     "duration": 0.07789,
     "end_time": "2022-01-09T15:42:36.856893",
     "exception": false,
     "start_time": "2022-01-09T15:42:36.779003",
     "status": "completed"
    },
    "tags": []
   },
   "source": [
    "### Find best model using GridSearch CV"
   ]
  },
  {
   "cell_type": "code",
   "execution_count": 73,
   "id": "b2ef1623",
   "metadata": {
    "execution": {
     "iopub.execute_input": "2022-01-09T15:42:37.019865Z",
     "iopub.status.busy": "2022-01-09T15:42:37.019050Z",
     "iopub.status.idle": "2022-01-09T15:42:42.423337Z",
     "shell.execute_reply": "2022-01-09T15:42:42.422744Z",
     "shell.execute_reply.started": "2022-01-09T15:39:01.373861Z"
    },
    "id": "wTvSCNNAeS_D",
    "outputId": "d8d28c34-a16f-4158-828c-4ed2a9275222",
    "papermill": {
     "duration": 5.490501,
     "end_time": "2022-01-09T15:42:42.423500",
     "exception": false,
     "start_time": "2022-01-09T15:42:36.932999",
     "status": "completed"
    },
    "tags": []
   },
   "outputs": [
    {
     "data": {
      "text/html": [
       "<div>\n",
       "<style scoped>\n",
       "    .dataframe tbody tr th:only-of-type {\n",
       "        vertical-align: middle;\n",
       "    }\n",
       "\n",
       "    .dataframe tbody tr th {\n",
       "        vertical-align: top;\n",
       "    }\n",
       "\n",
       "    .dataframe thead th {\n",
       "        text-align: right;\n",
       "    }\n",
       "</style>\n",
       "<table border=\"1\" class=\"dataframe\">\n",
       "  <thead>\n",
       "    <tr style=\"text-align: right;\">\n",
       "      <th></th>\n",
       "      <th>model</th>\n",
       "      <th>best_score</th>\n",
       "      <th>best_params</th>\n",
       "    </tr>\n",
       "  </thead>\n",
       "  <tbody>\n",
       "    <tr>\n",
       "      <th>0</th>\n",
       "      <td>linear_regression</td>\n",
       "      <td>0.818354</td>\n",
       "      <td>{'normalize': True}</td>\n",
       "    </tr>\n",
       "    <tr>\n",
       "      <th>1</th>\n",
       "      <td>lasso</td>\n",
       "      <td>0.687429</td>\n",
       "      <td>{'alpha': 1, 'selection': 'cyclic'}</td>\n",
       "    </tr>\n",
       "    <tr>\n",
       "      <th>2</th>\n",
       "      <td>decision_tree</td>\n",
       "      <td>0.717539</td>\n",
       "      <td>{'criterion': 'mse', 'splitter': 'random'}</td>\n",
       "    </tr>\n",
       "  </tbody>\n",
       "</table>\n",
       "</div>"
      ],
      "text/plain": [
       "               model  best_score                                 best_params\n",
       "0  linear_regression    0.818354                         {'normalize': True}\n",
       "1              lasso    0.687429         {'alpha': 1, 'selection': 'cyclic'}\n",
       "2      decision_tree    0.717539  {'criterion': 'mse', 'splitter': 'random'}"
      ]
     },
     "execution_count": 73,
     "metadata": {},
     "output_type": "execute_result"
    }
   ],
   "source": [
    "from sklearn.model_selection import GridSearchCV\n",
    "\n",
    "from sklearn.linear_model import Lasso\n",
    "from sklearn.tree import DecisionTreeRegressor\n",
    "\n",
    "def find_best_model_using_gridsearchcv(X,y):\n",
    "    algos = {\n",
    "        'linear_regression' : {\n",
    "            'model': LinearRegression(),\n",
    "            'params': {\n",
    "                'normalize': [True, False]\n",
    "            }\n",
    "        },\n",
    "        'lasso': {\n",
    "            'model': Lasso(),\n",
    "            'params': {\n",
    "                'alpha': [1,2],\n",
    "                'selection': ['random', 'cyclic']\n",
    "            }\n",
    "        },\n",
    "        'decision_tree': {\n",
    "            'model': DecisionTreeRegressor(),\n",
    "            'params': {\n",
    "                'criterion' : ['mse','friedman_mse'],\n",
    "                'splitter': ['best','random']\n",
    "            }\n",
    "        }\n",
    "    }\n",
    "    scores = []\n",
    "    cv = ShuffleSplit(n_splits=5, test_size=0.2, random_state=0)\n",
    "    for algo_name, config in algos.items():\n",
    "        gs =  GridSearchCV(config['model'], config['params'], cv=cv, return_train_score=False)\n",
    "        gs.fit(X,y)\n",
    "        scores.append({\n",
    "            'model': algo_name,\n",
    "            'best_score': gs.best_score_,\n",
    "            'best_params': gs.best_params_\n",
    "        })\n",
    "\n",
    "    return pd.DataFrame(scores,columns=['model','best_score','best_params'])\n",
    "\n",
    "find_best_model_using_gridsearchcv(X,y)"
   ]
  },
  {
   "cell_type": "markdown",
   "id": "7c06f1a9",
   "metadata": {
    "id": "Qyu-GGkBfjXn",
    "papermill": {
     "duration": 0.075993,
     "end_time": "2022-01-09T15:42:42.575382",
     "exception": false,
     "start_time": "2022-01-09T15:42:42.499389",
     "status": "completed"
    },
    "tags": []
   },
   "source": [
    "**Based on above results we can say that LinearRegression gives the best score. Hence we will use that.**"
   ]
  },
  {
   "cell_type": "markdown",
   "id": "e7f65c77",
   "metadata": {
    "id": "FU6Hp81rfljs",
    "papermill": {
     "duration": 0.077299,
     "end_time": "2022-01-09T15:42:42.728754",
     "exception": false,
     "start_time": "2022-01-09T15:42:42.651455",
     "status": "completed"
    },
    "tags": []
   },
   "source": [
    "### Test the model for few properties"
   ]
  },
  {
   "cell_type": "code",
   "execution_count": 74,
   "id": "71db3d74",
   "metadata": {
    "execution": {
     "iopub.execute_input": "2022-01-09T15:42:42.886643Z",
     "iopub.status.busy": "2022-01-09T15:42:42.885742Z",
     "iopub.status.idle": "2022-01-09T15:42:42.890544Z",
     "shell.execute_reply": "2022-01-09T15:42:42.890931Z",
     "shell.execute_reply.started": "2022-01-09T15:39:07.238211Z"
    },
    "id": "hfYmo5DbddFO",
    "papermill": {
     "duration": 0.085043,
     "end_time": "2022-01-09T15:42:42.891120",
     "exception": false,
     "start_time": "2022-01-09T15:42:42.806077",
     "status": "completed"
    },
    "tags": []
   },
   "outputs": [],
   "source": [
    "def predict_price(location, sqft,bath, bhk):\n",
    "  loc_index=np.where(X.columns==location)[0][0]\n",
    "\n",
    "  x = np.zeros(len(X.columns))\n",
    "  x[0] = sqft\n",
    "  x[1] = bath\n",
    "  x[2] = bhk\n",
    "  if loc_index >= 0 :\n",
    "    x[loc_index] = 1\n",
    "\n",
    "  return lr_clf.predict([x])[0]"
   ]
  },
  {
   "cell_type": "code",
   "execution_count": 75,
   "id": "a5dc919c",
   "metadata": {
    "execution": {
     "iopub.execute_input": "2022-01-09T15:42:43.073596Z",
     "iopub.status.busy": "2022-01-09T15:42:43.072860Z",
     "iopub.status.idle": "2022-01-09T15:42:43.075776Z",
     "shell.execute_reply": "2022-01-09T15:42:43.076275Z",
     "shell.execute_reply.started": "2022-01-09T15:39:07.244771Z"
    },
    "id": "pUAPdjI-gNL1",
    "outputId": "5c2fc468-38b4-4591-f6c2-e731c17a6e2e",
    "papermill": {
     "duration": 0.106803,
     "end_time": "2022-01-09T15:42:43.076445",
     "exception": false,
     "start_time": "2022-01-09T15:42:42.969642",
     "status": "completed"
    },
    "tags": []
   },
   "outputs": [
    {
     "data": {
      "text/plain": [
       "83.49904677170528"
      ]
     },
     "execution_count": 75,
     "metadata": {},
     "output_type": "execute_result"
    }
   ],
   "source": [
    "predict_price('1st Phase JP Nagar', 1000, 2, 2)"
   ]
  },
  {
   "cell_type": "code",
   "execution_count": 76,
   "id": "cedd48b5",
   "metadata": {
    "execution": {
     "iopub.execute_input": "2022-01-09T15:42:43.235115Z",
     "iopub.status.busy": "2022-01-09T15:42:43.234534Z",
     "iopub.status.idle": "2022-01-09T15:42:43.239084Z",
     "shell.execute_reply": "2022-01-09T15:42:43.239572Z",
     "shell.execute_reply.started": "2022-01-09T15:39:07.257993Z"
    },
    "id": "ywF3J_kggU21",
    "outputId": "9f12f631-680c-4096-a7f7-b98c188c60b1",
    "papermill": {
     "duration": 0.084889,
     "end_time": "2022-01-09T15:42:43.239729",
     "exception": false,
     "start_time": "2022-01-09T15:42:43.154840",
     "status": "completed"
    },
    "tags": []
   },
   "outputs": [
    {
     "data": {
      "text/plain": [
       "181.27815484007007"
      ]
     },
     "execution_count": 76,
     "metadata": {},
     "output_type": "execute_result"
    }
   ],
   "source": [
    "predict_price('Indira Nagar',1000,2,2)"
   ]
  },
  {
   "cell_type": "markdown",
   "id": "5f9f248a",
   "metadata": {
    "id": "2_4jLwHtgkr0",
    "papermill": {
     "duration": 0.076445,
     "end_time": "2022-01-09T15:42:43.392896",
     "exception": false,
     "start_time": "2022-01-09T15:42:43.316451",
     "status": "completed"
    },
    "tags": []
   },
   "source": [
    "### Export the Tested Model to a pickel file"
   ]
  },
  {
   "cell_type": "code",
   "execution_count": 77,
   "id": "a49a346a",
   "metadata": {
    "execution": {
     "iopub.execute_input": "2022-01-09T15:42:43.549117Z",
     "iopub.status.busy": "2022-01-09T15:42:43.548507Z",
     "iopub.status.idle": "2022-01-09T15:42:43.552095Z",
     "shell.execute_reply": "2022-01-09T15:42:43.552532Z",
     "shell.execute_reply.started": "2022-01-09T15:39:07.268658Z"
    },
    "id": "Mp8b-FTNgiwC",
    "papermill": {
     "duration": 0.083255,
     "end_time": "2022-01-09T15:42:43.552700",
     "exception": false,
     "start_time": "2022-01-09T15:42:43.469445",
     "status": "completed"
    },
    "tags": []
   },
   "outputs": [],
   "source": [
    "import pickle\n",
    "with open('banglore_home_prices_model.pickle','wb') as f:\n",
    "  pickle.dump(lr_clf,f)"
   ]
  },
  {
   "cell_type": "markdown",
   "id": "24ee20c1",
   "metadata": {
    "id": "UxyEYhB0g5bF",
    "papermill": {
     "duration": 0.076129,
     "end_time": "2022-01-09T15:42:43.705929",
     "exception": false,
     "start_time": "2022-01-09T15:42:43.629800",
     "status": "completed"
    },
    "tags": []
   },
   "source": [
    "**Export location and column information to a file that will be useful late on in our prediction application**"
   ]
  },
  {
   "cell_type": "code",
   "execution_count": 78,
   "id": "83a596ae",
   "metadata": {
    "execution": {
     "iopub.execute_input": "2022-01-09T15:42:43.863564Z",
     "iopub.status.busy": "2022-01-09T15:42:43.862961Z",
     "iopub.status.idle": "2022-01-09T15:42:43.867123Z",
     "shell.execute_reply": "2022-01-09T15:42:43.867626Z",
     "shell.execute_reply.started": "2022-01-09T15:39:07.278000Z"
    },
    "id": "heLign7Agx23",
    "papermill": {
     "duration": 0.084811,
     "end_time": "2022-01-09T15:42:43.867784",
     "exception": false,
     "start_time": "2022-01-09T15:42:43.782973",
     "status": "completed"
    },
    "tags": []
   },
   "outputs": [],
   "source": [
    "import json\n",
    "columns = {\n",
    "    'data_columns': [col.lower() for col in X.columns]\n",
    "}\n",
    "with open(\"Columns.json\",\"w\") as f:\n",
    "  f.write(json.dumps(columns))"
   ]
  },
  {
   "cell_type": "code",
   "execution_count": null,
   "id": "8dac2a46",
   "metadata": {
    "id": "IlW1GeomhRor",
    "papermill": {
     "duration": 0.079987,
     "end_time": "2022-01-09T15:42:44.025121",
     "exception": false,
     "start_time": "2022-01-09T15:42:43.945134",
     "status": "completed"
    },
    "tags": []
   },
   "outputs": [],
   "source": []
  }
 ],
 "metadata": {
  "kernelspec": {
   "display_name": "Python 3 (ipykernel)",
   "language": "python",
   "name": "python3"
  },
  "language_info": {
   "codemirror_mode": {
    "name": "ipython",
    "version": 3
   },
   "file_extension": ".py",
   "mimetype": "text/x-python",
   "name": "python",
   "nbconvert_exporter": "python",
   "pygments_lexer": "ipython3",
   "version": "3.9.12"
  },
  "papermill": {
   "default_parameters": {},
   "duration": 34.589978,
   "end_time": "2022-01-09T15:42:44.813326",
   "environment_variables": {},
   "exception": null,
   "input_path": "__notebook__.ipynb",
   "output_path": "__notebook__.ipynb",
   "parameters": {},
   "start_time": "2022-01-09T15:42:10.223348",
   "version": "2.3.3"
  }
 },
 "nbformat": 4,
 "nbformat_minor": 5
}
